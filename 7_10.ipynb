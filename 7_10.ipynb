{
  "nbformat": 4,
  "nbformat_minor": 0,
  "metadata": {
    "colab": {
      "name": "7_10.ipynb",
      "provenance": [],
      "collapsed_sections": [],
      "authorship_tag": "ABX9TyM//zuAuhtpPdE2jo2Y3ihY",
      "include_colab_link": true
    },
    "kernelspec": {
      "name": "python3",
      "display_name": "Python 3"
    },
    "language_info": {
      "name": "python"
    }
  },
  "cells": [
    {
      "cell_type": "markdown",
      "metadata": {
        "id": "view-in-github",
        "colab_type": "text"
      },
      "source": [
        "<a href=\"https://colab.research.google.com/github/cambo2018/Advanced-Dynamics/blob/main/7_10.ipynb\" target=\"_parent\"><img src=\"https://colab.research.google.com/assets/colab-badge.svg\" alt=\"Open In Colab\"/></a>"
      ]
    },
    {
      "cell_type": "code",
      "execution_count": 1,
      "metadata": {
        "colab": {
          "base_uri": "https://localhost:8080/"
        },
        "id": "PPQVydzXg5ZT",
        "outputId": "ef424702-7872-436e-feb0-2bb72d8148ab"
      },
      "outputs": [
        {
          "output_type": "stream",
          "name": "stdout",
          "text": [
            "Collecting whit-phys-util\n",
            "  Downloading whit_phys_util-0.2.7-py3-none-any.whl (11 kB)\n",
            "Collecting python-dotenv>=0.10.4\n",
            "  Downloading python_dotenv-0.19.2-py2.py3-none-any.whl (17 kB)\n",
            "Collecting pydantic>=1.7.3\n",
            "  Downloading pydantic-1.9.0-cp37-cp37m-manylinux_2_17_x86_64.manylinux2014_x86_64.whl (10.9 MB)\n",
            "\u001b[K     |████████████████████████████████| 10.9 MB 33.3 MB/s \n",
            "\u001b[?25hRequirement already satisfied: typing-extensions>=3.7.4.3 in /usr/local/lib/python3.7/dist-packages (from pydantic>=1.7.3->whit-phys-util) (3.10.0.2)\n",
            "Installing collected packages: python-dotenv, pydantic, whit-phys-util\n",
            "Successfully installed pydantic-1.9.0 python-dotenv-0.19.2 whit-phys-util-0.2.7\n"
          ]
        }
      ],
      "source": [
        "!pip install whit-phys-util"
      ]
    },
    {
      "cell_type": "code",
      "source": [
        "import whit_phys_util as buc\n",
        "from sympy import *"
      ],
      "metadata": {
        "colab": {
          "base_uri": "https://localhost:8080/"
        },
        "id": "UouCcPG-g92t",
        "outputId": "78fceede-7dc1-45e2-a3e8-4d6ed9aa477a"
      },
      "execution_count": 2,
      "outputs": [
        {
          "output_type": "stream",
          "name": "stdout",
          "text": [
            "Mounted at /content/drive\n"
          ]
        }
      ]
    },
    {
      "cell_type": "code",
      "source": [
        "repo = buc.local_repository(\"https://github.com/cambo2018/Advanced-Dynamics\")"
      ],
      "metadata": {
        "colab": {
          "base_uri": "https://localhost:8080/"
        },
        "id": "JeHzUi6sg90i",
        "outputId": "262ac608-1673-4efd-c523-2dcce3872008"
      },
      "execution_count": 3,
      "outputs": [
        {
          "output_type": "stream",
          "name": "stdout",
          "text": [
            "Cloning repository from GitHub.\n"
          ]
        }
      ]
    },
    {
      "cell_type": "code",
      "source": [
        "#  __________\n",
        "# /          \\\n",
        "#(____________)\n",
        "# \\          /\n",
        "#  \\        /\n",
        "#   \\      /\n",
        "#    \\    /\n",
        "#     \\  /\n",
        "#      \\/"
      ],
      "metadata": {
        "id": "gVT-1kXJg9yY"
      },
      "execution_count": 4,
      "outputs": []
    },
    {
      "cell_type": "code",
      "source": [
        "var('x y z rho phi alpha h')"
      ],
      "metadata": {
        "colab": {
          "base_uri": "https://localhost:8080/"
        },
        "id": "ZCzJnI65g9rw",
        "outputId": "5fccb6da-529e-4f19-b973-799d5c62b9e9"
      },
      "execution_count": 5,
      "outputs": [
        {
          "output_type": "execute_result",
          "data": {
            "text/plain": [
              "(x, y, z, rho, phi, alpha, h)"
            ]
          },
          "metadata": {},
          "execution_count": 5
        }
      ]
    },
    {
      "cell_type": "code",
      "source": [
        "rho = sqrt(x**2 + y**2)\n",
        "rho"
      ],
      "metadata": {
        "colab": {
          "base_uri": "https://localhost:8080/",
          "height": 38
        },
        "id": "Neypr-NGsbfQ",
        "outputId": "0fbbfeb7-13c0-49b8-efa0-f320aa0f40b1"
      },
      "execution_count": 6,
      "outputs": [
        {
          "output_type": "execute_result",
          "data": {
            "text/latex": "$\\displaystyle \\sqrt{x^{2} + y^{2}}$",
            "text/plain": [
              "sqrt(x**2 + y**2)"
            ]
          },
          "metadata": {},
          "execution_count": 6
        }
      ]
    },
    {
      "cell_type": "code",
      "source": [
        "phi = atan(y/x)\n",
        "phi"
      ],
      "metadata": {
        "colab": {
          "base_uri": "https://localhost:8080/",
          "height": 48
        },
        "id": "nwZC_zj9tYX6",
        "outputId": "aed95bfc-1199-4962-b234-bfde37ebfc48"
      },
      "execution_count": 7,
      "outputs": [
        {
          "output_type": "execute_result",
          "data": {
            "text/latex": "$\\displaystyle \\operatorname{atan}{\\left(\\frac{y}{x} \\right)}$",
            "text/plain": [
              "atan(y/x)"
            ]
          },
          "metadata": {},
          "execution_count": 7
        }
      ]
    },
    {
      "cell_type": "code",
      "source": [
        "var('x y z rho phi alpha')"
      ],
      "metadata": {
        "colab": {
          "base_uri": "https://localhost:8080/"
        },
        "id": "Asllq_vxuDCV",
        "outputId": "d2bb5434-b937-4f03-aaf7-b81913c30b9c"
      },
      "execution_count": 8,
      "outputs": [
        {
          "output_type": "execute_result",
          "data": {
            "text/plain": [
              "(x, y, z, rho, phi, alpha)"
            ]
          },
          "metadata": {},
          "execution_count": 8
        }
      ]
    },
    {
      "cell_type": "code",
      "source": [
        "#alpha = atan(rho/h)\n",
        "#tan(alpha) = rho/h\n",
        "h = rho/tan(alpha)"
      ],
      "metadata": {
        "id": "MoSosksXsbl_"
      },
      "execution_count": 9,
      "outputs": []
    },
    {
      "cell_type": "code",
      "source": [
        "x = rho*cos(phi)\n",
        "x"
      ],
      "metadata": {
        "colab": {
          "base_uri": "https://localhost:8080/",
          "height": 38
        },
        "id": "b6b-AQKag9pQ",
        "outputId": "3686ebaf-60c5-400e-9d3e-3d0598ad9dda"
      },
      "execution_count": 10,
      "outputs": [
        {
          "output_type": "execute_result",
          "data": {
            "text/latex": "$\\displaystyle \\rho \\cos{\\left(\\phi \\right)}$",
            "text/plain": [
              "rho*cos(phi)"
            ]
          },
          "metadata": {},
          "execution_count": 10
        }
      ]
    },
    {
      "cell_type": "code",
      "source": [
        "y = rho*sin(phi)\n",
        "y"
      ],
      "metadata": {
        "colab": {
          "base_uri": "https://localhost:8080/",
          "height": 38
        },
        "id": "3oEYSZCHg9nC",
        "outputId": "4d46e51c-a8dd-4c57-8e16-561265f40930"
      },
      "execution_count": 11,
      "outputs": [
        {
          "output_type": "execute_result",
          "data": {
            "text/latex": "$\\displaystyle \\rho \\sin{\\left(\\phi \\right)}$",
            "text/plain": [
              "rho*sin(phi)"
            ]
          },
          "metadata": {},
          "execution_count": 11
        }
      ]
    },
    {
      "cell_type": "code",
      "source": [
        "z = h\n",
        "z"
      ],
      "metadata": {
        "colab": {
          "base_uri": "https://localhost:8080/",
          "height": 52
        },
        "id": "FmO5URmpg9jR",
        "outputId": "cd88fb74-56e5-4586-a741-5bcc065b6e87"
      },
      "execution_count": 12,
      "outputs": [
        {
          "output_type": "execute_result",
          "data": {
            "text/latex": "$\\displaystyle \\frac{\\rho}{\\tan{\\left(\\alpha \\right)}}$",
            "text/plain": [
              "rho/tan(alpha)"
            ]
          },
          "metadata": {},
          "execution_count": 12
        }
      ]
    },
    {
      "cell_type": "code",
      "source": [
        "#buc.notebook_to_pdf(repo, author=\"Cameron Brewer\", title=\"7.10\")"
      ],
      "metadata": {
        "id": "fiaQg0ZIg9g3"
      },
      "execution_count": 13,
      "outputs": []
    }
  ]
}