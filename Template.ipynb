{
  "nbformat": 4,
  "nbformat_minor": 0,
  "metadata": {
    "colab": {
      "name": "Template.ipynb",
      "provenance": [],
      "collapsed_sections": [],
      "authorship_tag": "ABX9TyNq9xT+whg8bc6/odGBjOHy",
      "include_colab_link": true
    },
    "kernelspec": {
      "name": "python3",
      "display_name": "Python 3"
    },
    "language_info": {
      "name": "python"
    }
  },
  "cells": [
    {
      "cell_type": "markdown",
      "metadata": {
        "id": "view-in-github",
        "colab_type": "text"
      },
      "source": [
        "<a href=\"https://colab.research.google.com/github/cambo2018/Advanced-Dynamics/blob/main/Template.ipynb\" target=\"_parent\"><img src=\"https://colab.research.google.com/assets/colab-badge.svg\" alt=\"Open In Colab\"/></a>"
      ]
    },
    {
      "cell_type": "code",
      "execution_count": null,
      "metadata": {
        "id": "dPtpW9oR4Vxw",
        "colab": {
          "base_uri": "https://localhost:8080/"
        },
        "outputId": "522d835b-f068-4383-b9e4-291d3735d54e"
      },
      "outputs": [
        {
          "output_type": "stream",
          "name": "stdout",
          "text": [
            "Collecting whit-phys-util\n",
            "  Downloading whit_phys_util-0.2.7-py3-none-any.whl (11 kB)\n",
            "Collecting python-dotenv>=0.10.4\n",
            "  Downloading python_dotenv-0.19.2-py2.py3-none-any.whl (17 kB)\n",
            "Collecting pydantic>=1.7.3\n",
            "  Downloading pydantic-1.9.0-cp37-cp37m-manylinux_2_17_x86_64.manylinux2014_x86_64.whl (10.9 MB)\n",
            "\u001b[K     |████████████████████████████████| 10.9 MB 11.4 MB/s \n",
            "\u001b[?25hRequirement already satisfied: typing-extensions>=3.7.4.3 in /usr/local/lib/python3.7/dist-packages (from pydantic>=1.7.3->whit-phys-util) (3.10.0.2)\n",
            "Installing collected packages: python-dotenv, pydantic, whit-phys-util\n",
            "Successfully installed pydantic-1.9.0 python-dotenv-0.19.2 whit-phys-util-0.2.7\n"
          ]
        }
      ],
      "source": [
        "!pip install whit-phys-util"
      ]
    },
    {
      "cell_type": "code",
      "source": [
        "import whit_phys_util as buc\n",
        "from sympy import *\n",
        "import numpy as np\n",
        "from scipy.integrate import solve_ivp\n",
        "import matplotlib.pyplot as plt"
      ],
      "metadata": {
        "id": "m0vKofop4d8Q",
        "colab": {
          "base_uri": "https://localhost:8080/"
        },
        "outputId": "57bfe91b-309a-482d-effb-13a5643448b3"
      },
      "execution_count": null,
      "outputs": [
        {
          "output_type": "stream",
          "name": "stdout",
          "text": [
            "Mounted at /content/drive\n"
          ]
        }
      ]
    },
    {
      "cell_type": "code",
      "source": [
        "repo = buc.local_repository(\"https://github.com/cambo2018/Advanced-Dynamics\")"
      ],
      "metadata": {
        "id": "m103gnRC4d4Q"
      },
      "execution_count": null,
      "outputs": []
    },
    {
      "cell_type": "markdown",
      "source": [
        "# Taylor Series"
      ],
      "metadata": {
        "id": "6-B-0glUmsJM"
      }
    },
    {
      "cell_type": "code",
      "source": [
        "f = #function of choice\n",
        "a = #point expanded around\n",
        "terms = #how many terms in series\n",
        "Taylor = sum((x-a)**n/factorial(n) * f.diff(x, n).subs(x,a) for n in range(terms))"
      ],
      "metadata": {
        "id": "KyMbo0JX4d13"
      },
      "execution_count": null,
      "outputs": []
    },
    {
      "cell_type": "markdown",
      "source": [
        "# Oscillations"
      ],
      "metadata": {
        "id": "Lt83_1Lhnxbz"
      }
    },
    {
      "cell_type": "markdown",
      "source": [
        "## Forcing Function"
      ],
      "metadata": {
        "id": "3vEwF8EXnzr9"
      }
    },
    {
      "cell_type": "code",
      "source": [
        "var('n', integer=True, positive=True)\n",
        "\n",
        "f0 = integrate((1/T)*f, (t, -T/2, T/2))\n",
        "\n",
        "def fn(n): # amplitude function???\n",
        "  return integrate(2/T*cos(n*w*t)*f, (t, -T/2, T/2))\n",
        "\n",
        "def f_approx(nmax, t): # fourier series approximation\n",
        "  f_sym = f0 + Sum(fn(n)*cos(n*w*t), (n, 1, nmax))\n",
        "  return f_sym.doit()"
      ],
      "metadata": {
        "id": "TVJsRvuZ4dzy"
      },
      "execution_count": null,
      "outputs": []
    },
    {
      "cell_type": "markdown",
      "source": [
        "## Oscillator"
      ],
      "metadata": {
        "id": "K6GqzJSFn4qT"
      }
    },
    {
      "cell_type": "code",
      "source": [
        "a0 = f0/w_0**2\n",
        "\n",
        "def A(n, w): # amplitude function\n",
        "  return fn(n)/sqrt((w_0**2 - (n*w)**2)**2 + (2*B*n*w)**2)\n",
        "\n",
        "def delta(n, w):\n",
        "  return atan2(2*B*n*w, w_0**2 - n**2*w**2)\n",
        "\n",
        "def x(nmax, t, w): # long term behavior\n",
        "  sym_x = a0 + Sum(A(n, w)*cos(n*w*t-delta(n, w)), (n, 1, nmax))\n",
        "  return sym_x.doit()"
      ],
      "metadata": {
        "id": "AaH3gYs74dve"
      },
      "execution_count": null,
      "outputs": []
    },
    {
      "cell_type": "markdown",
      "source": [
        "# ODE Solver"
      ],
      "metadata": {
        "id": "Ag4vQJ6Vn7Xd"
      }
    },
    {
      "cell_type": "code",
      "source": [
        "# from scipy.integrate import solve_ivp\n",
        "# from numpy import linspace"
      ],
      "metadata": {
        "id": "J_Mz_u72SLIJ"
      },
      "execution_count": null,
      "outputs": []
    },
    {
      "cell_type": "code",
      "source": [
        "def solver(t, u):\n",
        "  [x, xdot] = u\n",
        "  function = [u[1], f(u)]\n",
        "  return function"
      ],
      "metadata": {
        "id": "oFRm4ZQI4dsw"
      },
      "execution_count": null,
      "outputs": []
    },
    {
      "cell_type": "code",
      "source": [
        "time = [0,10]\n",
        "tspan = np.linspace(0,time[-1],2837)\n",
        "\n",
        "y0 = [u[0] IC, u[1] IC]\n",
        "\n",
        "solution = solve_ivp(solver, time, y0, t_eval=tspan)"
      ],
      "metadata": {
        "id": "djKTztrvIqF7"
      },
      "execution_count": null,
      "outputs": []
    },
    {
      "cell_type": "code",
      "source": [
        "# Plotting example\n",
        "fig, ax = plt.subplots(2)\n",
        "\n",
        "ax[0].plot(solution.t, solution.y[0])\n",
        "\n",
        "ax[0].set_xlabel('Time (s)')\n",
        "ax[0].set_ylabel('Angle (rad)')"
      ],
      "metadata": {
        "id": "u8d0hG_iI_OF"
      },
      "execution_count": null,
      "outputs": []
    },
    {
      "cell_type": "markdown",
      "source": [
        "# EigenStuff"
      ],
      "metadata": {
        "id": "nK_3hMOUK5bW"
      }
    },
    {
      "cell_type": "code",
      "source": [
        "# from sympy import *"
      ],
      "metadata": {
        "id": "mXpLqhEBkU8b"
      },
      "execution_count": null,
      "outputs": []
    },
    {
      "cell_type": "code",
      "source": [
        "k, m, M = symbols('k m M', positive=True)\n",
        "\n",
        "M = Matrix([[m,0,0],[0,M,0],[0,0,m]])\n",
        "K = Matrix([[k,-k,0],[-k,2*k,-k],[0,-k,k]])\n",
        "\n",
        "A = M.inv()*K"
      ],
      "metadata": {
        "id": "Mwx-a59rflRh"
      },
      "execution_count": null,
      "outputs": []
    },
    {
      "cell_type": "code",
      "source": [
        "sol = A.eigenvects()\n",
        "sol"
      ],
      "metadata": {
        "id": "cdJViLunkQ_S"
      },
      "execution_count": null,
      "outputs": []
    },
    {
      "cell_type": "code",
      "source": [
        "omega1 = sqrt(sol[0][0])\n",
        "omega2 = sqrt(sol[1][0])\n",
        "omega3 = sqrt(sol[2][0])\n",
        "\n",
        "a1 = sol[0][2][0]\n",
        "a2 = sol[1][2][0]\n",
        "a3 = sol[2][2][0]"
      ],
      "metadata": {
        "id": "65Bc7a9EgXYL"
      },
      "execution_count": null,
      "outputs": []
    },
    {
      "cell_type": "markdown",
      "source": [
        "# Linear Fit"
      ],
      "metadata": {
        "id": "NnlwC5lJkcmc"
      }
    },
    {
      "cell_type": "code",
      "source": [
        "fitTable, fitFunc = buc.prettyPolyFit(df['Time (s)'], df['Position (m)'])\n",
        "fitTable"
      ],
      "metadata": {
        "id": "N6xbwO4eAFw3",
        "outputId": "f86a6eb7-fc26-4e7e-d8dc-b660454aee7f",
        "colab": {
          "base_uri": "https://localhost:8080/",
          "height": 112
        }
      },
      "execution_count": null,
      "outputs": [
        {
          "output_type": "execute_result",
          "data": {
            "text/html": [
              "\n",
              "  <div id=\"df-41bf8824-48d0-4834-989b-60fdb6ee0f6b\">\n",
              "    <div class=\"colab-df-container\">\n",
              "      <div>\n",
              "<style scoped>\n",
              "    .dataframe tbody tr th:only-of-type {\n",
              "        vertical-align: middle;\n",
              "    }\n",
              "\n",
              "    .dataframe tbody tr th {\n",
              "        vertical-align: top;\n",
              "    }\n",
              "\n",
              "    .dataframe thead th {\n",
              "        text-align: right;\n",
              "    }\n",
              "</style>\n",
              "<table border=\"1\" class=\"dataframe\">\n",
              "  <thead>\n",
              "    <tr style=\"text-align: right;\">\n",
              "      <th></th>\n",
              "      <th>slope</th>\n",
              "      <th>intercept</th>\n",
              "    </tr>\n",
              "  </thead>\n",
              "  <tbody>\n",
              "    <tr>\n",
              "      <th>value</th>\n",
              "      <td>3.073636</td>\n",
              "      <td>6.686364</td>\n",
              "    </tr>\n",
              "    <tr>\n",
              "      <th>uncertainty</th>\n",
              "      <td>0.231210</td>\n",
              "      <td>1.367854</td>\n",
              "    </tr>\n",
              "  </tbody>\n",
              "</table>\n",
              "</div>\n",
              "      <button class=\"colab-df-convert\" onclick=\"convertToInteractive('df-41bf8824-48d0-4834-989b-60fdb6ee0f6b')\"\n",
              "              title=\"Convert this dataframe to an interactive table.\"\n",
              "              style=\"display:none;\">\n",
              "        \n",
              "  <svg xmlns=\"http://www.w3.org/2000/svg\" height=\"24px\"viewBox=\"0 0 24 24\"\n",
              "       width=\"24px\">\n",
              "    <path d=\"M0 0h24v24H0V0z\" fill=\"none\"/>\n",
              "    <path d=\"M18.56 5.44l.94 2.06.94-2.06 2.06-.94-2.06-.94-.94-2.06-.94 2.06-2.06.94zm-11 1L8.5 8.5l.94-2.06 2.06-.94-2.06-.94L8.5 2.5l-.94 2.06-2.06.94zm10 10l.94 2.06.94-2.06 2.06-.94-2.06-.94-.94-2.06-.94 2.06-2.06.94z\"/><path d=\"M17.41 7.96l-1.37-1.37c-.4-.4-.92-.59-1.43-.59-.52 0-1.04.2-1.43.59L10.3 9.45l-7.72 7.72c-.78.78-.78 2.05 0 2.83L4 21.41c.39.39.9.59 1.41.59.51 0 1.02-.2 1.41-.59l7.78-7.78 2.81-2.81c.8-.78.8-2.07 0-2.86zM5.41 20L4 18.59l7.72-7.72 1.47 1.35L5.41 20z\"/>\n",
              "  </svg>\n",
              "      </button>\n",
              "      \n",
              "  <style>\n",
              "    .colab-df-container {\n",
              "      display:flex;\n",
              "      flex-wrap:wrap;\n",
              "      gap: 12px;\n",
              "    }\n",
              "\n",
              "    .colab-df-convert {\n",
              "      background-color: #E8F0FE;\n",
              "      border: none;\n",
              "      border-radius: 50%;\n",
              "      cursor: pointer;\n",
              "      display: none;\n",
              "      fill: #1967D2;\n",
              "      height: 32px;\n",
              "      padding: 0 0 0 0;\n",
              "      width: 32px;\n",
              "    }\n",
              "\n",
              "    .colab-df-convert:hover {\n",
              "      background-color: #E2EBFA;\n",
              "      box-shadow: 0px 1px 2px rgba(60, 64, 67, 0.3), 0px 1px 3px 1px rgba(60, 64, 67, 0.15);\n",
              "      fill: #174EA6;\n",
              "    }\n",
              "\n",
              "    [theme=dark] .colab-df-convert {\n",
              "      background-color: #3B4455;\n",
              "      fill: #D2E3FC;\n",
              "    }\n",
              "\n",
              "    [theme=dark] .colab-df-convert:hover {\n",
              "      background-color: #434B5C;\n",
              "      box-shadow: 0px 1px 3px 1px rgba(0, 0, 0, 0.15);\n",
              "      filter: drop-shadow(0px 1px 2px rgba(0, 0, 0, 0.3));\n",
              "      fill: #FFFFFF;\n",
              "    }\n",
              "  </style>\n",
              "\n",
              "      <script>\n",
              "        const buttonEl =\n",
              "          document.querySelector('#df-41bf8824-48d0-4834-989b-60fdb6ee0f6b button.colab-df-convert');\n",
              "        buttonEl.style.display =\n",
              "          google.colab.kernel.accessAllowed ? 'block' : 'none';\n",
              "\n",
              "        async function convertToInteractive(key) {\n",
              "          const element = document.querySelector('#df-41bf8824-48d0-4834-989b-60fdb6ee0f6b');\n",
              "          const dataTable =\n",
              "            await google.colab.kernel.invokeFunction('convertToInteractive',\n",
              "                                                     [key], {});\n",
              "          if (!dataTable) return;\n",
              "\n",
              "          const docLinkHtml = 'Like what you see? Visit the ' +\n",
              "            '<a target=\"_blank\" href=https://colab.research.google.com/notebooks/data_table.ipynb>data table notebook</a>'\n",
              "            + ' to learn more about interactive tables.';\n",
              "          element.innerHTML = '';\n",
              "          dataTable['output_type'] = 'display_data';\n",
              "          await google.colab.output.renderOutput(dataTable, element);\n",
              "          const docLink = document.createElement('div');\n",
              "          docLink.innerHTML = docLinkHtml;\n",
              "          element.appendChild(docLink);\n",
              "        }\n",
              "      </script>\n",
              "    </div>\n",
              "  </div>\n",
              "  "
            ],
            "text/plain": [
              "                slope  intercept\n",
              "value        3.073636   6.686364\n",
              "uncertainty  0.231210   1.367854"
            ]
          },
          "metadata": {},
          "execution_count": 5
        }
      ]
    },
    {
      "cell_type": "code",
      "source": [
        "print(f\"The slope is ({fitTable['slope']['value']:.1f} ± {fitTable['slope']['uncertainty']:.1f}) m/s\")\n",
        "print(f\"The intercept is ({fitTable['intercept']['value']:.1f} ± {fitTable['intercept']['uncertainty']:.1f}) m\")"
      ],
      "metadata": {
        "id": "QZpFxzWvARbC",
        "outputId": "12bbefe8-bf17-4968-fdea-671645fd8ba0",
        "colab": {
          "base_uri": "https://localhost:8080/"
        }
      },
      "execution_count": null,
      "outputs": [
        {
          "output_type": "stream",
          "name": "stdout",
          "text": [
            "The slope is (3.1 ± 0.2) m/s\n",
            "The intercept is (6.7 ± 1.4) m\n"
          ]
        }
      ]
    },
    {
      "cell_type": "code",
      "source": [
        "fig, ax = plt.subplots()\n",
        "ax.plot(df['Time (s)'], df['Position (m)'], \"o\");\n",
        "ax.set_xlabel(\"Time (s)\");\n",
        "ax.set_ylabel(\"Position (m)\");\n",
        "ax.set_xlim(0,10);\n",
        "ax.set_ylim(0,40);\n",
        "t_fit = np.linspace(min(df['Time (s)']), max(df['Time (s)']),2);\n",
        "ax.plot(t_fit, fitFunc(t_fit));"
      ],
      "metadata": {
        "id": "zAUzks6R_QkJ",
        "outputId": "476ae7f6-a6ba-4048-92e1-6583a3887439",
        "colab": {
          "base_uri": "https://localhost:8080/",
          "height": 283
        }
      },
      "execution_count": null,
      "outputs": [
        {
          "output_type": "display_data",
          "data": {
            "image/png": "[encoded data removed]",
            "text/plain": [
              "<Figure size 432x288 with 1 Axes>"
            ]
          },
          "metadata": {
            "needs_background": "light"
          }
        }
      ]
    },
    {
      "cell_type": "code",
      "source": [
        ""
      ],
      "metadata": {
        "id": "xALGT1jZKhlA"
      },
      "execution_count": null,
      "outputs": []
    },
    {
      "cell_type": "code",
      "source": [
        ""
      ],
      "metadata": {
        "id": "7lLwkhikKhhX"
      },
      "execution_count": null,
      "outputs": []
    },
    {
      "cell_type": "code",
      "source": [
        ""
      ],
      "metadata": {
        "id": "xnsHc_qsKgpi"
      },
      "execution_count": null,
      "outputs": []
    },
    {
      "cell_type": "code",
      "source": [
        ""
      ],
      "metadata": {
        "id": "yHa4fTwXKgl7"
      },
      "execution_count": null,
      "outputs": []
    },
    {
      "cell_type": "code",
      "source": [
        ""
      ],
      "metadata": {
        "id": "5DdSgm8QKgiH"
      },
      "execution_count": null,
      "outputs": []
    },
    {
      "cell_type": "code",
      "source": [
        ""
      ],
      "metadata": {
        "id": "TIYmE4xYKgeW"
      },
      "execution_count": null,
      "outputs": []
    },
    {
      "cell_type": "code",
      "source": [
        ""
      ],
      "metadata": {
        "id": "visL_Lg4Kgao"
      },
      "execution_count": null,
      "outputs": []
    },
    {
      "cell_type": "code",
      "source": [
        ""
      ],
      "metadata": {
        "id": "pVjHiwc_KgXF"
      },
      "execution_count": null,
      "outputs": []
    },
    {
      "cell_type": "code",
      "source": [
        "buc.notebook_to_pdf(repo, author=\"Cameron Brewer\", title=\"Title\")"
      ],
      "metadata": {
        "id": "h-n9OBKJ4dXW"
      },
      "execution_count": null,
      "outputs": []
    }
  ]
}