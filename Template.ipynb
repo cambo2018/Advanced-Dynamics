{
  "nbformat": 4,
  "nbformat_minor": 0,
  "metadata": {
    "colab": {
      "name": "Template.ipynb",
      "provenance": [],
      "collapsed_sections": [],
      "authorship_tag": "ABX9TyNMuevLTeh5834+vIS4+fRj",
      "include_colab_link": true
    },
    "kernelspec": {
      "name": "python3",
      "display_name": "Python 3"
    },
    "language_info": {
      "name": "python"
    }
  },
  "cells": [
    {
      "cell_type": "markdown",
      "metadata": {
        "id": "view-in-github",
        "colab_type": "text"
      },
      "source": [
        "<a href=\"https://colab.research.google.com/github/cambo2018/Advanced-Dynamics/blob/main/Template.ipynb\" target=\"_parent\"><img src=\"https://colab.research.google.com/assets/colab-badge.svg\" alt=\"Open In Colab\"/></a>"
      ]
    },
    {
      "cell_type": "code",
      "execution_count": null,
      "metadata": {
        "id": "dPtpW9oR4Vxw"
      },
      "outputs": [],
      "source": [
        "!pip install whit-phys-util"
      ]
    },
    {
      "cell_type": "code",
      "source": [
        "import whit_phys_util as buc\n",
        "import matplotlib.pyplot as plt\n",
        "from sympy import *\n",
        "import numpy as np"
      ],
      "metadata": {
        "id": "m0vKofop4d8Q"
      },
      "execution_count": null,
      "outputs": []
    },
    {
      "cell_type": "code",
      "source": [
        "repo = buc.local_repository(\"https://github.com/cambo2018/Advanced-Dynamics\")"
      ],
      "metadata": {
        "id": "m103gnRC4d4Q"
      },
      "execution_count": null,
      "outputs": []
    },
    {
      "cell_type": "code",
      "source": [
        ""
      ],
      "metadata": {
        "id": "KyMbo0JX4d13"
      },
      "execution_count": null,
      "outputs": []
    },
    {
      "cell_type": "code",
      "source": [
        "# Forcing Function\n",
        "\n",
        "var('n', integer=True, positive=True)\n",
        "\n",
        "f0 = integrate((1/T)*f, (t, -T/2, T/2))\n",
        "\n",
        "def fn(n): # amplitude function???\n",
        "  return integrate(2/T*cos(n*w*t)*f, (t, -T/2, T/2))\n",
        "\n",
        "def f_approx(nmax, t): # fourier series approximation\n",
        "  f_sym = f0 + Sum(fn(n)*cos(n*w*t), (n, 1, nmax))\n",
        "  return f_sym.doit()"
      ],
      "metadata": {
        "id": "TVJsRvuZ4dzy"
      },
      "execution_count": null,
      "outputs": []
    },
    {
      "cell_type": "code",
      "source": [
        "# Oscillator\n",
        "\n",
        "a0 = f0/w_0**2\n",
        "\n",
        "def A(n, w): # amplitude function\n",
        "  return fn(n)/sqrt((w_0**2 - (n*w)**2)**2 + (2*B*n*w)**2)\n",
        "\n",
        "def delta(n, w):\n",
        "  return atan2(2*B*n*w, w_0**2 - n**2*w**2)\n",
        "\n",
        "def x(nmax, t, w): # long term behavior\n",
        "  sym_x = a0 + Sum(A(n, w)*cos(n*w*t-delta(n, w)), (n, 1, nmax))\n",
        "  return sym_x.doit()"
      ],
      "metadata": {
        "id": "AaH3gYs74dve"
      },
      "execution_count": null,
      "outputs": []
    },
    {
      "cell_type": "code",
      "source": [
        ""
      ],
      "metadata": {
        "id": "oFRm4ZQI4dsw"
      },
      "execution_count": null,
      "outputs": []
    },
    {
      "cell_type": "code",
      "source": [
        ""
      ],
      "metadata": {
        "id": "gPLqjTgf4dmy"
      },
      "execution_count": null,
      "outputs": []
    },
    {
      "cell_type": "code",
      "source": [
        "#buc.notebook_to_pdf(repo, author=\"Cameron Brewer\", title=\"Title\")"
      ],
      "metadata": {
        "id": "h-n9OBKJ4dXW"
      },
      "execution_count": null,
      "outputs": []
    }
  ]
}