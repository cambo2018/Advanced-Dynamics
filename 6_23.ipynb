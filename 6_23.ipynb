{
  "nbformat": 4,
  "nbformat_minor": 0,
  "metadata": {
    "colab": {
      "name": "6_23.ipynb",
      "provenance": [],
      "collapsed_sections": [],
      "authorship_tag": "ABX9TyOGGmH1VlxaVasEDK3zzvgG",
      "include_colab_link": true
    },
    "kernelspec": {
      "name": "python3",
      "display_name": "Python 3"
    },
    "language_info": {
      "name": "python"
    }
  },
  "cells": [
    {
      "cell_type": "markdown",
      "metadata": {
        "id": "view-in-github",
        "colab_type": "text"
      },
      "source": [
        "<a href=\"https://colab.research.google.com/github/cambo2018/Advanced-Dynamics/blob/main/6_23.ipynb\" target=\"_parent\"><img src=\"https://colab.research.google.com/assets/colab-badge.svg\" alt=\"Open In Colab\"/></a>"
      ]
    },
    {
      "cell_type": "code",
      "execution_count": 1,
      "metadata": {
        "colab": {
          "base_uri": "https://localhost:8080/"
        },
        "id": "kohytzwMgeHV",
        "outputId": "95a5610e-925d-4934-f5d7-c2b97e7435c7"
      },
      "outputs": [
        {
          "output_type": "stream",
          "name": "stdout",
          "text": [
            "Collecting whit-phys-util\n",
            "  Downloading whit_phys_util-0.2.7-py3-none-any.whl (11 kB)\n",
            "Collecting python-dotenv>=0.10.4\n",
            "  Downloading python_dotenv-0.19.2-py2.py3-none-any.whl (17 kB)\n",
            "Collecting pydantic>=1.7.3\n",
            "  Downloading pydantic-1.9.0-cp37-cp37m-manylinux_2_17_x86_64.manylinux2014_x86_64.whl (10.9 MB)\n",
            "\u001b[K     |████████████████████████████████| 10.9 MB 4.1 MB/s \n",
            "\u001b[?25hRequirement already satisfied: typing-extensions>=3.7.4.3 in /usr/local/lib/python3.7/dist-packages (from pydantic>=1.7.3->whit-phys-util) (3.10.0.2)\n",
            "Installing collected packages: python-dotenv, pydantic, whit-phys-util\n",
            "Successfully installed pydantic-1.9.0 python-dotenv-0.19.2 whit-phys-util-0.2.7\n"
          ]
        }
      ],
      "source": [
        "!pip install whit-phys-util"
      ]
    },
    {
      "cell_type": "code",
      "source": [
        "import whit_phys_util as buc\n",
        "from sympy import *"
      ],
      "metadata": {
        "colab": {
          "base_uri": "https://localhost:8080/"
        },
        "id": "PsIR0D-VgiRw",
        "outputId": "16fda868-d173-4b7b-a174-d25c8dae6bdc"
      },
      "execution_count": 2,
      "outputs": [
        {
          "output_type": "stream",
          "name": "stdout",
          "text": [
            "Mounted at /content/drive\n"
          ]
        }
      ]
    },
    {
      "cell_type": "code",
      "source": [
        "repo = buc.local_repository(\"https://github.com/cambo2018/Advanced-Dynamics\")"
      ],
      "metadata": {
        "colab": {
          "base_uri": "https://localhost:8080/"
        },
        "id": "-NZfDPS4giPf",
        "outputId": "394858f8-5fdf-4b3d-d4ac-7b5ed279e089"
      },
      "execution_count": 3,
      "outputs": [
        {
          "output_type": "stream",
          "name": "stdout",
          "text": [
            "Cloning repository from GitHub.\n"
          ]
        }
      ]
    },
    {
      "cell_type": "code",
      "source": [
        "var('v_0 V phi x y dydx dx C D L')\n",
        "k = V/v_0\n",
        "v_wind = V*y"
      ],
      "metadata": {
        "id": "ErUUkr6PgiNI"
      },
      "execution_count": 61,
      "outputs": []
    },
    {
      "cell_type": "markdown",
      "source": [
        "Find the plane's ground speed in terms of $v_o, V, \\phi$"
      ],
      "metadata": {
        "id": "ECJ9lF7fEnQ2"
      }
    },
    {
      "cell_type": "code",
      "source": [
        "v_g = sqrt((v_wind + v_0*cos(phi))**2 + (v_0*sin(phi))**2)\n",
        "v_g"
      ],
      "metadata": {
        "colab": {
          "base_uri": "https://localhost:8080/",
          "height": 48
        },
        "id": "3b-dowFjEmPq",
        "outputId": "0c6e3272-1d8f-4efe-9a8d-75a955bfaa50"
      },
      "execution_count": 13,
      "outputs": [
        {
          "output_type": "execute_result",
          "data": {
            "text/latex": "$\\displaystyle \\sqrt{v_{0}^{2} \\sin^{2}{\\left(\\phi \\right)} + \\left(V y + v_{0} \\cos{\\left(\\phi \\right)}\\right)^{2}}$",
            "text/plain": [
              "sqrt(v_0**2*sin(phi)**2 + (V*y + v_0*cos(phi))**2)"
            ]
          },
          "metadata": {},
          "execution_count": 13
        }
      ]
    },
    {
      "cell_type": "code",
      "source": [
        "# ds = sqrt(dx**2 + dy**2)\n",
        "ds = sqrt(1 + dydx**2)*dx"
      ],
      "metadata": {
        "id": "cXqPpBwwGXqA"
      },
      "execution_count": 18,
      "outputs": []
    },
    {
      "cell_type": "markdown",
      "source": [
        "Write time of flight as integral of form $\\int_{O}^{D}f\\,dx$"
      ],
      "metadata": {
        "id": "xRPd6NM0E0DC"
      }
    },
    {
      "cell_type": "code",
      "source": [
        "# integral(O,D)(fdx)\n",
        "f = ds/v_g\n",
        "time = integrate(f, x)\n",
        "f"
      ],
      "metadata": {
        "id": "5iXHt3fkgiK8",
        "colab": {
          "base_uri": "https://localhost:8080/",
          "height": 74
        },
        "outputId": "6224bc9a-d5d2-4730-efa5-dcc64442f9cb"
      },
      "execution_count": 21,
      "outputs": [
        {
          "output_type": "execute_result",
          "data": {
            "text/latex": "$\\displaystyle \\frac{dx \\sqrt{dydx^{2} + 1}}{\\sqrt{v_{0}^{2} \\sin^{2}{\\left(\\phi \\right)} + \\left(V y + v_{0} \\cos{\\left(\\phi \\right)}\\right)^{2}}}$",
            "text/plain": [
              "dx*sqrt(dydx**2 + 1)/sqrt(v_0**2*sin(phi)**2 + (V*y + v_0*cos(phi))**2)"
            ]
          },
          "metadata": {},
          "execution_count": 21
        }
      ]
    },
    {
      "cell_type": "code",
      "source": [
        "f_given = (1 + 1/2 * dydx**2)/(1 + k*y)*C\n",
        "f_given"
      ],
      "metadata": {
        "id": "i_kxcyzFgiIi",
        "colab": {
          "base_uri": "https://localhost:8080/",
          "height": 65
        },
        "outputId": "c3247fe6-ac25-494d-a869-2b6d7512a9b7"
      },
      "execution_count": 45,
      "outputs": [
        {
          "output_type": "execute_result",
          "data": {
            "text/latex": "$\\displaystyle \\frac{C \\left(0.5 dydx^{2} + 1\\right)}{\\frac{V y}{v_{0}} + 1}$",
            "text/plain": [
              "C*(0.5*dydx**2 + 1)/(V*y/v_0 + 1)"
            ]
          },
          "metadata": {},
          "execution_count": 45
        }
      ]
    },
    {
      "cell_type": "markdown",
      "source": [
        "for small $\\phi$, $\\cos(\\phi) \\approx 1$ and $\\sin(\\phi) \\approx \\phi$.\n",
        "\n",
        "Taylor expand top and bottom"
      ],
      "metadata": {
        "id": "oeE_PufhL7cj"
      }
    },
    {
      "cell_type": "code",
      "source": [
        "# top: sqrt(1 + x^2) @ x=0\n",
        "# 1st term: 1\n",
        "# 2nd term: 1/(2(1+x^2)^2) * (x-0) = x/2\n",
        "ds.diff(dydx).subs(dydx,0)"
      ],
      "metadata": {
        "colab": {
          "base_uri": "https://localhost:8080/",
          "height": 37
        },
        "id": "n-tEMB_0Obh1",
        "outputId": "1e53801b-3df4-4c4a-c525-53eaee62c4e4"
      },
      "execution_count": 35,
      "outputs": [
        {
          "output_type": "execute_result",
          "data": {
            "text/latex": "$\\displaystyle 0$",
            "text/plain": [
              "0"
            ]
          },
          "metadata": {},
          "execution_count": 35
        }
      ]
    },
    {
      "cell_type": "code",
      "source": [
        "taylor_top = sum(dydx**i/factorial(i) * ds.diff(dydx, i).subs(dydx,0) for i in range(3))\n",
        "taylor_top.simplify()"
      ],
      "metadata": {
        "colab": {
          "base_uri": "https://localhost:8080/",
          "height": 55
        },
        "id": "fEIZX1wKPRSg",
        "outputId": "1bd77f38-6235-4cba-8752-eaa8fc50f93b"
      },
      "execution_count": 47,
      "outputs": [
        {
          "output_type": "execute_result",
          "data": {
            "text/latex": "$\\displaystyle \\frac{dx \\left(dydx^{2} + 2\\right)}{2}$",
            "text/plain": [
              "dx*(dydx**2 + 2)/2"
            ]
          },
          "metadata": {},
          "execution_count": 47
        }
      ]
    },
    {
      "cell_type": "code",
      "source": [
        "v_g_appx = v_g.subs(cos(phi), 1).subs(sin(phi), 0)"
      ],
      "metadata": {
        "id": "_zDQKEOKT9xN"
      },
      "execution_count": 41,
      "outputs": []
    },
    {
      "cell_type": "code",
      "source": [
        "taylor_bot = sum(phi**i/factorial(i) * v_g_appx.diff(phi, i).subs(phi,0) for i in range(3))\n",
        "taylor_bot.simplify()"
      ],
      "metadata": {
        "colab": {
          "base_uri": "https://localhost:8080/",
          "height": 48
        },
        "id": "rXD6zk8ATNpa",
        "outputId": "4f56f62a-a167-4f13-d8e4-52d3551d7bb5"
      },
      "execution_count": 44,
      "outputs": [
        {
          "output_type": "execute_result",
          "data": {
            "text/latex": "$\\displaystyle \\sqrt{\\left(V y + v_{0}\\right)^{2}}$",
            "text/plain": [
              "sqrt((V*y + v_0)**2)"
            ]
          },
          "metadata": {},
          "execution_count": 44
        }
      ]
    },
    {
      "cell_type": "code",
      "source": [
        "f_appx = taylor_top/taylor_bot\n",
        "f_appx"
      ],
      "metadata": {
        "colab": {
          "base_uri": "https://localhost:8080/",
          "height": 77
        },
        "id": "M8pXCwKwULO4",
        "outputId": "ab0e0911-c3e6-47e0-dd5e-2c444b0ad063"
      },
      "execution_count": 49,
      "outputs": [
        {
          "output_type": "execute_result",
          "data": {
            "text/latex": "$\\displaystyle \\frac{\\frac{dx dydx^{2}}{2} + dx}{\\sqrt{\\left(V y + v_{0}\\right)^{2}}}$",
            "text/plain": [
              "(dx*dydx**2/2 + dx)/sqrt((V*y + v_0)**2)"
            ]
          },
          "metadata": {},
          "execution_count": 49
        }
      ]
    },
    {
      "cell_type": "markdown",
      "source": [
        "Deviding a v_0 out from the denominator gives:\n",
        "\n",
        "$$ f = \\frac{1+\\frac{1}{2}y'^2}{v_0(1 + ky)} $$\n",
        "\n",
        "The constant $C = 1/v_0$"
      ],
      "metadata": {
        "id": "ZqsNOEPAVAcd"
      }
    },
    {
      "cell_type": "code",
      "source": [
        "fc = (1+.5*dydx**2)/(v_0*(1+k*y))\n",
        "fc"
      ],
      "metadata": {
        "colab": {
          "base_uri": "https://localhost:8080/",
          "height": 71
        },
        "id": "8XET4os5Yw1c",
        "outputId": "b309e80b-4260-423c-f123-0f81666dd68a"
      },
      "execution_count": 62,
      "outputs": [
        {
          "output_type": "execute_result",
          "data": {
            "text/latex": "$\\displaystyle \\frac{0.5 dydx^{2} + 1}{v_{0} \\left(\\frac{V y}{v_{0}} + 1\\right)}$",
            "text/plain": [
              "(0.5*dydx**2 + 1)/(v_0*(V*y/v_0 + 1))"
            ]
          },
          "metadata": {},
          "execution_count": 62
        }
      ]
    },
    {
      "cell_type": "code",
      "source": [
        "dfdy = fc.diff(y)\n",
        "dfdy"
      ],
      "metadata": {
        "colab": {
          "base_uri": "https://localhost:8080/",
          "height": 76
        },
        "id": "68bnKmLTZKHz",
        "outputId": "67232611-18ae-446a-c5bc-825ca0457f70"
      },
      "execution_count": 64,
      "outputs": [
        {
          "output_type": "execute_result",
          "data": {
            "text/latex": "$\\displaystyle - \\frac{V \\left(0.5 dydx^{2} + 1\\right)}{v_{0}^{2} \\left(\\frac{V y}{v_{0}} + 1\\right)^{2}}$",
            "text/plain": [
              "-V*(0.5*dydx**2 + 1)/(v_0**2*(V*y/v_0 + 1)**2)"
            ]
          },
          "metadata": {},
          "execution_count": 64
        }
      ]
    },
    {
      "cell_type": "code",
      "source": [
        "dfdydx = fc.diff(dydx).subs(y, L*x*(D - x))\n",
        "dfdydx"
      ],
      "metadata": {
        "colab": {
          "base_uri": "https://localhost:8080/",
          "height": 69
        },
        "id": "or_h_7i1aEX_",
        "outputId": "4896bce6-663e-4ae6-9f68-887e331dbd64"
      },
      "execution_count": 67,
      "outputs": [
        {
          "output_type": "execute_result",
          "data": {
            "text/latex": "$\\displaystyle \\frac{1.0 dydx}{v_{0} \\left(\\frac{L V x \\left(D - x\\right)}{v_{0}} + 1\\right)}$",
            "text/plain": [
              "1.0*dydx/(v_0*(L*V*x*(D - x)/v_0 + 1))"
            ]
          },
          "metadata": {},
          "execution_count": 67
        }
      ]
    },
    {
      "cell_type": "code",
      "source": [
        "dfdx = dfdydx.diff(x)\n",
        "dfdx"
      ],
      "metadata": {
        "colab": {
          "base_uri": "https://localhost:8080/",
          "height": 86
        },
        "id": "qtC7bITAaKwk",
        "outputId": "86330a93-390f-438a-8e1d-12aa0196e63d"
      },
      "execution_count": 68,
      "outputs": [
        {
          "output_type": "execute_result",
          "data": {
            "text/latex": "$\\displaystyle \\frac{1.0 dydx \\left(\\frac{L V x}{v_{0}} - \\frac{L V \\left(D - x\\right)}{v_{0}}\\right)}{v_{0} \\left(\\frac{L V x \\left(D - x\\right)}{v_{0}} + 1\\right)^{2}}$",
            "text/plain": [
              "1.0*dydx*(L*V*x/v_0 - L*V*(D - x)/v_0)/(v_0*(L*V*x*(D - x)/v_0 + 1)**2)"
            ]
          },
          "metadata": {},
          "execution_count": 68
        }
      ]
    },
    {
      "cell_type": "code",
      "source": [
        "# after calculating derivatives, subtraction should equal zero if equal\n",
        "test = dfdy - dfdx\n",
        "test.simplify()\n",
        "# clearly not zero :("
      ],
      "metadata": {
        "colab": {
          "base_uri": "https://localhost:8080/",
          "height": 72
        },
        "id": "L5ploVLFcSYm",
        "outputId": "3b66e569-8bd3-4501-e210-5938ed463558"
      },
      "execution_count": 70,
      "outputs": [
        {
          "output_type": "execute_result",
          "data": {
            "text/latex": "$\\displaystyle - \\frac{V \\left(- 1.0 L dydx \\left(D - 2 x\\right) \\left(V y + v_{0}\\right)^{2} + \\left(0.5 dydx^{2} + 1\\right) \\left(L V x \\left(D - x\\right) + v_{0}\\right)^{2}\\right)}{\\left(V y + v_{0}\\right)^{2} \\left(L V x \\left(D - x\\right) + v_{0}\\right)^{2}}$",
            "text/plain": [
              "-V*(-1.0*L*dydx*(D - 2*x)*(V*y + v_0)**2 + (0.5*dydx**2 + 1)*(L*V*x*(D - x) + v_0)**2)/((V*y + v_0)**2*(L*V*x*(D - x) + v_0)**2)"
            ]
          },
          "metadata": {},
          "execution_count": 70
        }
      ]
    },
    {
      "cell_type": "code",
      "source": [
        "# df/dy = d/dx(df/dy')\n",
        "\n",
        "L = (sqrt(4 + 2*k**2*D**2)-2)/(k*D**2)\n",
        "#y = L*x*(D - x)"
      ],
      "metadata": {
        "id": "SWTNy-U7giGH"
      },
      "execution_count": 73,
      "outputs": []
    },
    {
      "cell_type": "code",
      "source": [
        "#Plug in numbers\n",
        "D = 2000\n",
        "v_0 = 500 \n",
        "V = 0.5\n",
        "k = V/v_0\n",
        "L = (sqrt(4 + 2*k**2*D**2)-2)/(k*D**2)\n",
        "y = L*x*(D - x)\n",
        "y"
      ],
      "metadata": {
        "id": "7dvudhJegiDe",
        "colab": {
          "base_uri": "https://localhost:8080/",
          "height": 38
        },
        "outputId": "5cf0c98a-fd6b-4e78-cd53-104f74258cda"
      },
      "execution_count": 76,
      "outputs": [
        {
          "output_type": "execute_result",
          "data": {
            "text/latex": "$\\displaystyle 0.000366025403784439 x \\left(2000 - x\\right)$",
            "text/plain": [
              "0.000366025403784439*x*(2000 - x)"
            ]
          },
          "metadata": {},
          "execution_count": 76
        }
      ]
    },
    {
      "cell_type": "code",
      "source": [
        "# buc.notebook_to_pdf(repo, author=\"Cameron Brewer\", title=\"6.23\")"
      ],
      "metadata": {
        "id": "FRZ49oTFghzd"
      },
      "execution_count": null,
      "outputs": []
    }
  ]
}