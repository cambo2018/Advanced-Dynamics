{
  "nbformat": 4,
  "nbformat_minor": 0,
  "metadata": {
    "colab": {
      "name": "14_12.ipynb",
      "provenance": [],
      "authorship_tag": "ABX9TyMEUPgSiOo0cNcZ/XbgO+tn",
      "include_colab_link": true
    },
    "kernelspec": {
      "name": "python3",
      "display_name": "Python 3"
    },
    "language_info": {
      "name": "python"
    }
  },
  "cells": [
    {
      "cell_type": "markdown",
      "metadata": {
        "id": "view-in-github",
        "colab_type": "text"
      },
      "source": [
        "<a href=\"https://colab.research.google.com/github/cambo2018/Advanced-Dynamics/blob/main/14_12.ipynb\" target=\"_parent\"><img src=\"https://colab.research.google.com/assets/colab-badge.svg\" alt=\"Open In Colab\"/></a>"
      ]
    },
    {
      "cell_type": "code",
      "execution_count": 1,
      "metadata": {
        "id": "dPtpW9oR4Vxw"
      },
      "outputs": [],
      "source": [
        "!pip install whit-phys-util 1> /dev/null"
      ]
    },
    {
      "cell_type": "code",
      "source": [
        "import whit_phys_util as buc\n",
        "from sympy import *\n",
        "import numpy as np\n",
        "import scipy.constants as sc\n",
        "import matplotlib.pyplot as plt"
      ],
      "metadata": {
        "id": "m0vKofop4d8Q",
        "colab": {
          "base_uri": "https://localhost:8080/"
        },
        "outputId": "328d1583-74c0-401a-f916-612db0763447"
      },
      "execution_count": 2,
      "outputs": [
        {
          "output_type": "stream",
          "name": "stdout",
          "text": [
            "Mounted at /content/drive\n"
          ]
        }
      ]
    },
    {
      "cell_type": "code",
      "source": [
        "repo = buc.local_repository(\"https://github.com/cambo2018/Advanced-Dynamics\")"
      ],
      "metadata": {
        "id": "m103gnRC4d4Q",
        "colab": {
          "base_uri": "https://localhost:8080/"
        },
        "outputId": "83188a28-a2e5-4327-e4ca-e45e7b1760e0"
      },
      "execution_count": 3,
      "outputs": [
        {
          "output_type": "stream",
          "name": "stdout",
          "text": [
            "Cloning repository from GitHub.\n"
          ]
        }
      ]
    },
    {
      "cell_type": "code",
      "source": [
        "var('hbar E m p theta phi', positive=True)"
      ],
      "metadata": {
        "colab": {
          "base_uri": "https://localhost:8080/"
        },
        "id": "84ISU3j8gF8p",
        "outputId": "17208017-d522-4ba7-bdfc-627794e25d95"
      },
      "execution_count": 4,
      "outputs": [
        {
          "output_type": "execute_result",
          "data": {
            "text/plain": [
              "(hbar, E, m, p, theta, phi)"
            ]
          },
          "metadata": {},
          "execution_count": 4
        }
      ]
    },
    {
      "cell_type": "code",
      "source": [
        "P = [1, cos(theta)]\n",
        "delta = [-30*pi/180, 150*pi/180]\n",
        "\n",
        "energy = 10*1.6e-13 #J\n",
        "mass = 1.675e-27 #kg\n",
        "\n",
        "terms = 2\n",
        "partialwave = hbar/p*sum((2*n +1)*exp(I*delta[n])*sin(delta[n])*P[n] for n in range(terms))"
      ],
      "metadata": {
        "id": "ZtHbo0_DgY4A"
      },
      "execution_count": 5,
      "outputs": []
    },
    {
      "cell_type": "code",
      "source": [
        "partialwave.simplify()"
      ],
      "metadata": {
        "colab": {
          "base_uri": "https://localhost:8080/",
          "height": 62
        },
        "id": "0AEw8zZTjUQe",
        "outputId": "98e202e9-c676-4c77-e2ec-e3b6c5111dd8"
      },
      "execution_count": 6,
      "outputs": [
        {
          "output_type": "execute_result",
          "data": {
            "text/plain": [
              "(-1)**(5/6)*hbar*(3*cos(theta) + 1)/(2*p)"
            ],
            "text/latex": "$\\displaystyle \\frac{\\left(-1\\right)^{\\frac{5}{6}} \\hbar \\left(3 \\cos{\\left(\\theta \\right)} + 1\\right)}{2 p}$"
          },
          "metadata": {},
          "execution_count": 6
        }
      ]
    },
    {
      "cell_type": "code",
      "source": [
        "momentum = sqrt(2*E*m)\n",
        "partialwave = partialwave.subs({p:momentum})"
      ],
      "metadata": {
        "id": "om8BTnKmKOqQ"
      },
      "execution_count": 7,
      "outputs": []
    },
    {
      "cell_type": "code",
      "source": [
        "diffcross = partialwave*conjugate(partialwave)  \n",
        "diffcross.simplify()"
      ],
      "metadata": {
        "colab": {
          "base_uri": "https://localhost:8080/",
          "height": 56
        },
        "id": "jFnuQ9F-nv7A",
        "outputId": "40494b15-4843-49af-f936-a18ae61104d1"
      },
      "execution_count": 8,
      "outputs": [
        {
          "output_type": "execute_result",
          "data": {
            "text/plain": [
              "hbar**2*(3*cos(theta) + 1)**2/(8*E*m)"
            ],
            "text/latex": "$\\displaystyle \\frac{\\hbar^{2} \\left(3 \\cos{\\left(\\theta \\right)} + 1\\right)^{2}}{8 E m}$"
          },
          "metadata": {},
          "execution_count": 8
        }
      ]
    },
    {
      "cell_type": "code",
      "source": [
        "params = {E:energy, m:mass, hbar:sc.hbar}\n",
        "diffcross = diffcross.subs(params).simplify()\n",
        "diffcross"
      ],
      "metadata": {
        "colab": {
          "base_uri": "https://localhost:8080/",
          "height": 39
        },
        "id": "STkIQW0vkyok",
        "outputId": "8d90086f-6db4-4951-ae31-6082ece526b8"
      },
      "execution_count": 9,
      "outputs": [
        {
          "output_type": "execute_result",
          "data": {
            "text/plain": [
              "5.18713488140634e-31*(3*cos(theta) + 1)**2"
            ],
            "text/latex": "$\\displaystyle 5.18713488140634 \\cdot 10^{-31} \\left(3 \\cos{\\left(\\theta \\right)} + 1\\right)^{2}$"
          },
          "metadata": {},
          "execution_count": 9
        }
      ]
    },
    {
      "cell_type": "code",
      "source": [
        "thetarange = np.linspace(0,np.pi,1000)\n",
        "dx = lambdify(theta, diffcross, 'numpy')\n",
        "\n",
        "fig, ax = plt.subplots()\n",
        "ax.plot(thetarange, dx(thetarange))\n",
        "ax.set_xlabel('theta (rad)')\n",
        "ax.set_ylabel('differential cross section (m^2)');"
      ],
      "metadata": {
        "colab": {
          "base_uri": "https://localhost:8080/",
          "height": 290
        },
        "id": "9b74vevulO3r",
        "outputId": "f0fe8a0c-45c0-4321-ce05-96c2a213c62c"
      },
      "execution_count": 10,
      "outputs": [
        {
          "output_type": "display_data",
          "data": {
            "text/plain": [
              "<Figure size 432x288 with 1 Axes>"
            ],
            "image/png": "[encoded data removed]"
          },
          "metadata": {
            "needs_background": "light"
          }
        }
      ]
    },
    {
      "cell_type": "code",
      "source": [
        "integral = diffcross*sin(theta)"
      ],
      "metadata": {
        "id": "j8sLRDfYVIF0"
      },
      "execution_count": 11,
      "outputs": []
    },
    {
      "cell_type": "code",
      "source": [
        "sigmaish = integrate(integral, (theta,0,pi))\n",
        "sigma = integrate(sigmaish, (phi, 0, 2*pi))"
      ],
      "metadata": {
        "id": "7CtM2awLdSHu"
      },
      "execution_count": 12,
      "outputs": []
    },
    {
      "cell_type": "code",
      "source": [
        "sigma"
      ],
      "metadata": {
        "colab": {
          "base_uri": "https://localhost:8080/",
          "height": 38
        },
        "id": "OAY-DMyRduKl",
        "outputId": "d3ebb552-6512-4d11-edd2-3613b5967755"
      },
      "execution_count": 13,
      "outputs": [
        {
          "output_type": "execute_result",
          "data": {
            "text/plain": [
              "8.29941581025014e-30*pi"
            ],
            "text/latex": "$\\displaystyle 8.29941581025014 \\cdot 10^{-30} \\pi$"
          },
          "metadata": {},
          "execution_count": 13
        }
      ]
    },
    {
      "cell_type": "code",
      "source": [
        "buc.notebook_to_pdf(repo, author=\"Cameron Brewer\", title=\"14.12\")"
      ],
      "metadata": {
        "id": "Q3_SRGAsebIi"
      },
      "execution_count": null,
      "outputs": []
    }
  ]
}