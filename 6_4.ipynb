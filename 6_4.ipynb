{
  "nbformat": 4,
  "nbformat_minor": 0,
  "metadata": {
    "colab": {
      "name": "6_4.ipynb",
      "provenance": [],
      "collapsed_sections": [],
      "authorship_tag": "ABX9TyPPNG768l6TaIBrbou8Qxp2",
      "include_colab_link": true
    },
    "kernelspec": {
      "name": "python3",
      "display_name": "Python 3"
    },
    "language_info": {
      "name": "python"
    }
  },
  "cells": [
    {
      "cell_type": "markdown",
      "metadata": {
        "id": "view-in-github",
        "colab_type": "text"
      },
      "source": [
        "<a href=\"https://colab.research.google.com/github/cambo2018/Advanced-Dynamics/blob/main/6_4.ipynb\" target=\"_parent\"><img src=\"https://colab.research.google.com/assets/colab-badge.svg\" alt=\"Open In Colab\"/></a>"
      ]
    },
    {
      "cell_type": "code",
      "execution_count": 1,
      "metadata": {
        "colab": {
          "base_uri": "https://localhost:8080/"
        },
        "id": "uJ8KjWYSbdh3",
        "outputId": "50eb84b3-87bc-4354-c292-ea2f9c673f8b"
      },
      "outputs": [
        {
          "output_type": "stream",
          "name": "stdout",
          "text": [
            "Collecting whit-phys-util\n",
            "  Downloading whit_phys_util-0.2.7-py3-none-any.whl (11 kB)\n",
            "Collecting pydantic>=1.7.3\n",
            "  Downloading pydantic-1.9.0-cp37-cp37m-manylinux_2_17_x86_64.manylinux2014_x86_64.whl (10.9 MB)\n",
            "\u001b[K     |████████████████████████████████| 10.9 MB 8.4 MB/s \n",
            "\u001b[?25hCollecting python-dotenv>=0.10.4\n",
            "  Downloading python_dotenv-0.19.2-py2.py3-none-any.whl (17 kB)\n",
            "Requirement already satisfied: typing-extensions>=3.7.4.3 in /usr/local/lib/python3.7/dist-packages (from pydantic>=1.7.3->whit-phys-util) (3.10.0.2)\n",
            "Installing collected packages: python-dotenv, pydantic, whit-phys-util\n",
            "Successfully installed pydantic-1.9.0 python-dotenv-0.19.2 whit-phys-util-0.2.7\n"
          ]
        }
      ],
      "source": [
        "!pip install whit-phys-util"
      ]
    },
    {
      "cell_type": "code",
      "source": [
        "import whit_phys_util as buc\n",
        "from sympy import *"
      ],
      "metadata": {
        "colab": {
          "base_uri": "https://localhost:8080/"
        },
        "id": "6hY3xj8hbmwa",
        "outputId": "99730de6-8380-46d9-e061-7c8180bb44a1"
      },
      "execution_count": 2,
      "outputs": [
        {
          "output_type": "stream",
          "name": "stdout",
          "text": [
            "Mounted at /content/drive\n"
          ]
        }
      ]
    },
    {
      "cell_type": "code",
      "source": [
        "repo = buc.local_repository(\"https://github.com/cambo2018/Advanced-Dynamics\")"
      ],
      "metadata": {
        "colab": {
          "base_uri": "https://localhost:8080/"
        },
        "id": "L6UU1apGmIfc",
        "outputId": "13abe95c-4ef9-43ad-dc83-79314d72a96d"
      },
      "execution_count": 46,
      "outputs": [
        {
          "output_type": "stream",
          "name": "stdout",
          "text": [
            "Cloning repository from GitHub.\n"
          ]
        }
      ]
    },
    {
      "cell_type": "code",
      "source": [
        "# specify variables to be used\n",
        "var('x x2 h1 h2 P1 P2 z n1 n2 c')"
      ],
      "metadata": {
        "colab": {
          "base_uri": "https://localhost:8080/"
        },
        "id": "hyU4VflBbrJK",
        "outputId": "e08d3239-b4c0-48bd-d412-55606887f7b3"
      },
      "execution_count": 10,
      "outputs": [
        {
          "output_type": "execute_result",
          "data": {
            "text/plain": [
              "(x, x2, h1, h2, P1, P2, z, n1, n2, c)"
            ]
          },
          "metadata": {},
          "execution_count": 10
        }
      ]
    },
    {
      "cell_type": "code",
      "source": [
        "# L = (final) - (initial)\n",
        "\n",
        "L1 = sqrt(x**2 + h1**2 + z**2) # Q-P1\n",
        "L2 = sqrt((x2-x)**2 + h2**2 + z**2) # P2-Q"
      ],
      "metadata": {
        "id": "PpfDcl7ScDKK"
      },
      "execution_count": 11,
      "outputs": []
    },
    {
      "cell_type": "code",
      "source": [
        "# Time = L *n/c\n",
        "t1 = L1*n1/c\n",
        "t2 = L2*n2/c\n",
        "t = t1 + t2\n",
        "t.simplify()"
      ],
      "metadata": {
        "colab": {
          "base_uri": "https://localhost:8080/",
          "height": 67
        },
        "id": "28133uwxcbQ5",
        "outputId": "8273a080-88e0-4bc7-e9cd-12436230407b"
      },
      "execution_count": 27,
      "outputs": [
        {
          "output_type": "execute_result",
          "data": {
            "text/latex": "$\\displaystyle \\frac{n_{1} \\sqrt{h_{1}^{2} + x^{2} + z^{2}} + n_{2} \\sqrt{h_{2}^{2} + z^{2} + \\left(x - x_{2}\\right)^{2}}}{c}$",
            "text/plain": [
              "(n1*sqrt(h1**2 + x**2 + z**2) + n2*sqrt(h2**2 + z**2 + (x - x2)**2))/c"
            ]
          },
          "metadata": {},
          "execution_count": 27
        }
      ]
    },
    {
      "cell_type": "code",
      "source": [
        "# minimize time traveled wrt z\n",
        "dtdz = diff(t,z)"
      ],
      "metadata": {
        "id": "Cxpqgkbtdajv"
      },
      "execution_count": 28,
      "outputs": []
    },
    {
      "cell_type": "code",
      "source": [
        "dtdz.subs(z,0) # = 0, therefore time travelled is minimized"
      ],
      "metadata": {
        "colab": {
          "base_uri": "https://localhost:8080/",
          "height": 37
        },
        "id": "IQ4h_lAadage",
        "outputId": "aba6576e-4d8d-473b-cda3-1df9ffb86b61"
      },
      "execution_count": 29,
      "outputs": [
        {
          "output_type": "execute_result",
          "data": {
            "text/latex": "$\\displaystyle 0$",
            "text/plain": [
              "0"
            ]
          },
          "metadata": {},
          "execution_count": 29
        }
      ]
    },
    {
      "cell_type": "code",
      "source": [
        "mint = t.subs(z,0)\n",
        "dtdx = diff(mint,x) # minimize time travelled wrt x\n",
        "dtdx.simplify()"
      ],
      "metadata": {
        "colab": {
          "base_uri": "https://localhost:8080/",
          "height": 65
        },
        "id": "6vnows4Pdac9",
        "outputId": "2dfc2879-659e-4e4a-e962-b9260f08c79b"
      },
      "execution_count": 30,
      "outputs": [
        {
          "output_type": "execute_result",
          "data": {
            "text/latex": "$\\displaystyle \\frac{n_{1} x}{c \\sqrt{h_{1}^{2} + x^{2}}} + \\frac{n_{2} x}{c \\sqrt{h_{2}^{2} + \\left(x - x_{2}\\right)^{2}}} - \\frac{n_{2} x_{2}}{c \\sqrt{h_{2}^{2} + \\left(x - x_{2}\\right)^{2}}}$",
            "text/plain": [
              "n1*x/(c*sqrt(h1**2 + x**2)) + n2*x/(c*sqrt(h2**2 + (x - x2)**2)) - n2*x2/(c*sqrt(h2**2 + (x - x2)**2))"
            ]
          },
          "metadata": {},
          "execution_count": 30
        }
      ]
    },
    {
      "cell_type": "code",
      "source": [
        "# snells law states that n1*sin1 = n2*sin2\n",
        "# n1 = n2*sin2/sin1\n",
        "# n2 = n1*sin1/sin2\n",
        "sin1 = h1/L1\n",
        "sin2 = -h2/L2"
      ],
      "metadata": {
        "id": "LyfjqWAbdaRb"
      },
      "execution_count": 42,
      "outputs": []
    },
    {
      "cell_type": "code",
      "source": [
        "C = n2*sin2/sin1\n",
        "dtdx.subs(n1, C)"
      ],
      "metadata": {
        "colab": {
          "base_uri": "https://localhost:8080/",
          "height": 74
        },
        "id": "J0xiip-Xjucn",
        "outputId": "31cf6685-e5e4-4bac-ea8d-1457f015b3e9"
      },
      "execution_count": 45,
      "outputs": [
        {
          "output_type": "execute_result",
          "data": {
            "text/latex": "$\\displaystyle \\frac{n_{2} \\left(x - x_{2}\\right)}{c \\sqrt{h_{2}^{2} + \\left(- x + x_{2}\\right)^{2}}} - \\frac{h_{2} n_{2} x \\sqrt{h_{1}^{2} + x^{2} + z^{2}}}{c h_{1} \\sqrt{h_{1}^{2} + x^{2}} \\sqrt{h_{2}^{2} + z^{2} + \\left(- x + x_{2}\\right)^{2}}}$",
            "text/plain": [
              "n2*(x - x2)/(c*sqrt(h2**2 + (-x + x2)**2)) - h2*n2*x*sqrt(h1**2 + x**2 + z**2)/(c*h1*sqrt(h1**2 + x**2)*sqrt(h2**2 + z**2 + (-x + x2)**2))"
            ]
          },
          "metadata": {},
          "execution_count": 45
        }
      ]
    },
    {
      "cell_type": "code",
      "source": [
        "buc.notebook_to_pdf(repo, author=\"Cameron Brewer\", title=\"6.4\")"
      ],
      "metadata": {
        "id": "hdOobmAOjxp1"
      },
      "execution_count": null,
      "outputs": []
    }
  ]
}