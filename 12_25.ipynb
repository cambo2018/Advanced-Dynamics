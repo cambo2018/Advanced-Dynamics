{
  "nbformat": 4,
  "nbformat_minor": 0,
  "metadata": {
    "colab": {
      "name": "12_25.ipynb",
      "provenance": [],
      "authorship_tag": "ABX9TyPSO/erf1CwC+b6/5RjCJP2",
      "include_colab_link": true
    },
    "kernelspec": {
      "name": "python3",
      "display_name": "Python 3"
    },
    "language_info": {
      "name": "python"
    }
  },
  "cells": [
    {
      "cell_type": "markdown",
      "metadata": {
        "id": "view-in-github",
        "colab_type": "text"
      },
      "source": [
        "<a href=\"https://colab.research.google.com/github/cambo2018/Advanced-Dynamics/blob/main/12_25.ipynb\" target=\"_parent\"><img src=\"https://colab.research.google.com/assets/colab-badge.svg\" alt=\"Open In Colab\"/></a>"
      ]
    },
    {
      "cell_type": "code",
      "execution_count": 1,
      "metadata": {
        "id": "JS6gxPHya4S4"
      },
      "outputs": [],
      "source": [
        "!pip install whit-phys-util 1> /dev/null"
      ]
    },
    {
      "cell_type": "code",
      "source": [
        "import whit_phys_util as buc\n",
        "import numpy as np\n",
        "import matplotlib.pyplot as plt"
      ],
      "metadata": {
        "id": "XAttNEoRbHug",
        "colab": {
          "base_uri": "https://localhost:8080/"
        },
        "outputId": "9b0a03a0-77e9-48df-90d2-ba3a2fb1354d"
      },
      "execution_count": 2,
      "outputs": [
        {
          "output_type": "stream",
          "name": "stdout",
          "text": [
            "Mounted at /content/drive\n"
          ]
        }
      ]
    },
    {
      "cell_type": "code",
      "source": [
        "repo = buc.local_repository(\"https://github.com/cambo2018/Advanced-Dynamics\")"
      ],
      "metadata": {
        "colab": {
          "base_uri": "https://localhost:8080/"
        },
        "id": "xHjKsl-VbIQT",
        "outputId": "15ae8bb8-dea3-497f-8c2a-73d0ef769c98"
      },
      "execution_count": 3,
      "outputs": [
        {
          "output_type": "stream",
          "name": "stdout",
          "text": [
            "Cloning repository from GitHub.\n"
          ]
        }
      ]
    },
    {
      "cell_type": "code",
      "source": [
        "def f(r,x):\n",
        "  f = r*np.sin(np.pi*x)\n",
        "  return f"
      ],
      "metadata": {
        "id": "lc_Va8dbbKTk"
      },
      "execution_count": 4,
      "outputs": []
    },
    {
      "cell_type": "code",
      "source": [
        "def xt(r,x):\n",
        "  xt = [x0]\n",
        "  for i in range(len(t)-1):\n",
        "    temp = f(r,xt[i])\n",
        "    xt.append(temp)\n",
        "  return xt"
      ],
      "metadata": {
        "id": "SJpTK7cMGZyL"
      },
      "execution_count": 31,
      "outputs": []
    },
    {
      "cell_type": "code",
      "source": [
        "t = np.linspace(1,20,10000)\n",
        "\n",
        "x0 = .8\n",
        "\n",
        "r1 = .6\n",
        "r2 = .79\n",
        "r3 = .85\n",
        "r4 = .865"
      ],
      "metadata": {
        "id": "bq3t5CU_bKVv"
      },
      "execution_count": 70,
      "outputs": []
    },
    {
      "cell_type": "code",
      "source": [
        "xt1 = xt(r1,x0)\n",
        "xt2 = xt(r2,x0)\n",
        "xt3 = xt(r3,x0)\n",
        "xt4 = xt(r4,x0)"
      ],
      "metadata": {
        "id": "gun32ohtGZT5"
      },
      "execution_count": 71,
      "outputs": []
    },
    {
      "cell_type": "code",
      "source": [
        "fig, ax = plt.subplots(4, figsize=(7,15))\n",
        "\n",
        "ax[0].plot(t,xt1, '.', label='r=.6')\n",
        "ax[1].plot(t,xt2, '.', label='r=.79')\n",
        "ax[2].plot(t,xt3, '.', label='r=.85')\n",
        "ax[3].plot(t,xt4, '.', label='r=.865')\n",
        "\n",
        "ax[2].set_xlabel('$t$')\n",
        "ax[0].set_ylabel('$x_t$')\n",
        "ax[1].set_ylabel('$x_t$')\n",
        "ax[2].set_ylabel('$x_t$')\n",
        "\n",
        "ax[0].legend()\n",
        "ax[1].legend()\n",
        "ax[2].legend()\n",
        "ax[3].legend();"
      ],
      "metadata": {
        "colab": {
          "base_uri": "https://localhost:8080/",
          "height": 863
        },
        "id": "k_m7yczYHQsR",
        "outputId": "975d50dd-7894-453e-d55f-c6dfab1c6be8"
      },
      "execution_count": 72,
      "outputs": [
        {
          "output_type": "display_data",
          "data": {
            "text/plain": [
              "<Figure size 504x1080 with 4 Axes>"
            ],
            "image/png": "[encoded data removed]"
          },
          "metadata": {
            "needs_background": "light"
          }
        }
      ]
    },
    {
      "cell_type": "markdown",
      "source": [
        "# r = .6\n",
        "> There is one stable fixed point at approximately $x = .59$\n",
        "# r = .79\n",
        "> A bifurcation has occured and there are now two stable fixed points that $x_t$ is bouncing between.\n",
        "# r = .85\n",
        "> Another bifurcation has taken place, resulting in four stable fixed points.\n",
        "# r = .865\n",
        "> Yet another bifurcation has occured, resulting in 16 stable fixed points.  It's hard to see, but zooming in shows that some of the thick lines are actually two."
      ],
      "metadata": {
        "id": "nB7TARXBs1mO"
      }
    },
    {
      "cell_type": "code",
      "source": [
        "# buc.notebook_to_pdf(repo, author=\"Cameron Brewer\", title=\"12.25\")"
      ],
      "metadata": {
        "id": "Quha8u3vHerE"
      },
      "execution_count": 45,
      "outputs": []
    }
  ]
}