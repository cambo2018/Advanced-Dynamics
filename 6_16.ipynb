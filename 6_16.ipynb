{
  "nbformat": 4,
  "nbformat_minor": 0,
  "metadata": {
    "colab": {
      "name": "6_16.ipynb",
      "provenance": [],
      "collapsed_sections": [],
      "authorship_tag": "ABX9TyN6PFEJxt77Lme0semDzDl1",
      "include_colab_link": true
    },
    "kernelspec": {
      "name": "python3",
      "display_name": "Python 3"
    },
    "language_info": {
      "name": "python"
    }
  },
  "cells": [
    {
      "cell_type": "markdown",
      "metadata": {
        "id": "view-in-github",
        "colab_type": "text"
      },
      "source": [
        "<a href=\"https://colab.research.google.com/github/cambo2018/Advanced-Dynamics/blob/main/6_16.ipynb\" target=\"_parent\"><img src=\"https://colab.research.google.com/assets/colab-badge.svg\" alt=\"Open In Colab\"/></a>"
      ]
    },
    {
      "cell_type": "code",
      "execution_count": 4,
      "metadata": {
        "colab": {
          "base_uri": "https://localhost:8080/"
        },
        "id": "G3aHCmIsEJjM",
        "outputId": "d94cc4ff-aa9e-493d-836d-2f7bba3e1478"
      },
      "outputs": [
        {
          "output_type": "stream",
          "name": "stdout",
          "text": [
            "Requirement already satisfied: whit-phys-util in /usr/local/lib/python3.7/dist-packages (0.2.7)\n",
            "Requirement already satisfied: python-dotenv>=0.10.4 in /usr/local/lib/python3.7/dist-packages (from whit-phys-util) (0.19.2)\n",
            "Requirement already satisfied: pydantic>=1.7.3 in /usr/local/lib/python3.7/dist-packages (from whit-phys-util) (1.9.0)\n",
            "Requirement already satisfied: typing-extensions>=3.7.4.3 in /usr/local/lib/python3.7/dist-packages (from pydantic>=1.7.3->whit-phys-util) (3.10.0.2)\n"
          ]
        }
      ],
      "source": [
        "!pip install whit-phys-util"
      ]
    },
    {
      "cell_type": "code",
      "source": [
        "import whit_phys_util as buc\n",
        "import matplotlib.pyplot as plt\n",
        "from sympy import *"
      ],
      "metadata": {
        "id": "qCgFNATdEY4h"
      },
      "execution_count": 5,
      "outputs": []
    },
    {
      "cell_type": "code",
      "source": [
        "repo = buc.local_repository(\"https://github.com/cambo2018/Advanced-Dynamics\")"
      ],
      "metadata": {
        "colab": {
          "base_uri": "https://localhost:8080/"
        },
        "id": "qZzJMdFjEdcf",
        "outputId": "ae54687d-5a5d-4524-f160-6eb745bb3082"
      },
      "execution_count": 6,
      "outputs": [
        {
          "output_type": "stream",
          "name": "stdout",
          "text": [
            "Repository exists at this location. Pulling changes from GitHub.\n"
          ]
        }
      ]
    },
    {
      "cell_type": "code",
      "source": [
        "# Euler-Lagrange\n",
        "# dL/du = d/dt(dL/dudot)\n",
        "# df/dphi = d/dtheta(df/dphidtheta)\n",
        "# df/dphi = 0\n",
        "# therefore, df/dphidtheta = const\n",
        "\n",
        "var('R theta phi_prime C')\n",
        "f = R*sqrt(1 + sin(theta)**2 * phi_prime**2)\n",
        "f"
      ],
      "metadata": {
        "id": "N6oKuwasElcN",
        "colab": {
          "base_uri": "https://localhost:8080/",
          "height": 48
        },
        "outputId": "89312f61-917f-4be8-cda1-bcf1ea606098"
      },
      "execution_count": 10,
      "outputs": [
        {
          "output_type": "execute_result",
          "data": {
            "text/latex": "$\\displaystyle R \\sqrt{\\phi_{prime}^{2} \\sin^{2}{\\left(\\theta \\right)} + 1}$",
            "text/plain": [
              "R*sqrt(phi_prime**2*sin(theta)**2 + 1)"
            ]
          },
          "metadata": {},
          "execution_count": 10
        }
      ]
    },
    {
      "cell_type": "code",
      "source": [
        "# df/dphi_prime = const\n",
        "dfdphi = diff(f, phi_prime)\n",
        "dfdphi.simplify()"
      ],
      "metadata": {
        "colab": {
          "base_uri": "https://localhost:8080/",
          "height": 72
        },
        "id": "fF-r9ThoTpBj",
        "outputId": "f032ebff-a135-4cb6-f78a-70d611cbf1a9"
      },
      "execution_count": 8,
      "outputs": [
        {
          "output_type": "execute_result",
          "data": {
            "text/latex": "$\\displaystyle \\frac{R \\phi_{prime} \\sin^{2}{\\left(\\theta \\right)}}{\\sqrt{\\phi_{prime}^{2} \\sin^{2}{\\left(\\theta \\right)} + 1}}$",
            "text/plain": [
              "R*phi_prime*sin(theta)**2/sqrt(phi_prime**2*sin(theta)**2 + 1)"
            ]
          },
          "metadata": {},
          "execution_count": 8
        }
      ]
    },
    {
      "cell_type": "code",
      "source": [
        "dphidtheta = solve(dfdphi - C, phi_prime)"
      ],
      "metadata": {
        "id": "1kKWc4pXElVu"
      },
      "execution_count": 19,
      "outputs": []
    },
    {
      "cell_type": "code",
      "source": [
        "dphidtheta[0]"
      ],
      "metadata": {
        "colab": {
          "base_uri": "https://localhost:8080/",
          "height": 70
        },
        "id": "h3WUweBTbtDi",
        "outputId": "8ed182e4-3e05-4199-bb9d-9b691c41dab5"
      },
      "execution_count": 20,
      "outputs": [
        {
          "output_type": "execute_result",
          "data": {
            "text/latex": "$\\displaystyle - \\frac{C \\sqrt{- \\frac{1}{C^{2} - R^{2} \\sin^{2}{\\left(\\theta \\right)}}}}{\\sin{\\left(\\theta \\right)}}$",
            "text/plain": [
              "-C*sqrt(-1/(C**2 - R**2*sin(theta)**2))/sin(theta)"
            ]
          },
          "metadata": {},
          "execution_count": 20
        }
      ]
    },
    {
      "cell_type": "code",
      "source": [
        "dphidtheta[1]"
      ],
      "metadata": {
        "id": "q7yD-a8RElS2",
        "colab": {
          "base_uri": "https://localhost:8080/",
          "height": 70
        },
        "outputId": "08ff1153-c586-4f14-ae66-cd59a85e2705"
      },
      "execution_count": 21,
      "outputs": [
        {
          "output_type": "execute_result",
          "data": {
            "text/latex": "$\\displaystyle \\frac{C \\sqrt{- \\frac{1}{C^{2} - R^{2} \\sin^{2}{\\left(\\theta \\right)}}}}{\\sin{\\left(\\theta \\right)}}$",
            "text/plain": [
              "C*sqrt(-1/(C**2 - R**2*sin(theta)**2))/sin(theta)"
            ]
          },
          "metadata": {},
          "execution_count": 21
        }
      ]
    },
    {
      "cell_type": "markdown",
      "source": [
        "Based off of Eq. 6.41, the path from point 1 to point 2 has no phi dependance.  There is only theta dependance and phi prime dependence.  Since a geodesic is the shortest path, the integrand f must be minimized.  This happens when phi_prime = 0.  For that to be true, the constant C must equal 0 too."
      ],
      "metadata": {
        "id": "EWeZsYZYffp-"
      }
    },
    {
      "cell_type": "code",
      "source": [
        "#buc.notebook_to_pdf(repo, author=\"Cameron Brewer\", title=\"6.16\")"
      ],
      "metadata": {
        "id": "1zjGQzkaf7Kb"
      },
      "execution_count": null,
      "outputs": []
    }
  ]
}