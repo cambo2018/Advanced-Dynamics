{
  "nbformat": 4,
  "nbformat_minor": 0,
  "metadata": {
    "colab": {
      "name": "12_17.ipynb",
      "provenance": [],
      "authorship_tag": "ABX9TyN2eMXugVCKd75Oc+cOUcQU",
      "include_colab_link": true
    },
    "kernelspec": {
      "name": "python3",
      "display_name": "Python 3"
    },
    "language_info": {
      "name": "python"
    }
  },
  "cells": [
    {
      "cell_type": "markdown",
      "metadata": {
        "id": "view-in-github",
        "colab_type": "text"
      },
      "source": [
        "<a href=\"https://colab.research.google.com/github/cambo2018/Advanced-Dynamics/blob/main/12_17.ipynb\" target=\"_parent\"><img src=\"https://colab.research.google.com/assets/colab-badge.svg\" alt=\"Open In Colab\"/></a>"
      ]
    },
    {
      "cell_type": "code",
      "execution_count": 1,
      "metadata": {
        "colab": {
          "base_uri": "https://localhost:8080/"
        },
        "id": "a2wskyXDIxqN",
        "outputId": "8380799f-77ed-4290-e5cd-97dde9e965d7"
      },
      "outputs": [
        {
          "output_type": "stream",
          "name": "stdout",
          "text": [
            "Collecting whit-phys-util\n",
            "  Downloading whit_phys_util-0.2.7-py3-none-any.whl (11 kB)\n",
            "Collecting pydantic>=1.7.3\n",
            "  Downloading pydantic-1.9.0-cp37-cp37m-manylinux_2_17_x86_64.manylinux2014_x86_64.whl (10.9 MB)\n",
            "\u001b[K     |████████████████████████████████| 10.9 MB 3.9 MB/s \n",
            "\u001b[?25hCollecting python-dotenv>=0.10.4\n",
            "  Downloading python_dotenv-0.19.2-py2.py3-none-any.whl (17 kB)\n",
            "Requirement already satisfied: typing-extensions>=3.7.4.3 in /usr/local/lib/python3.7/dist-packages (from pydantic>=1.7.3->whit-phys-util) (3.10.0.2)\n",
            "Installing collected packages: python-dotenv, pydantic, whit-phys-util\n",
            "Successfully installed pydantic-1.9.0 python-dotenv-0.19.2 whit-phys-util-0.2.7\n"
          ]
        }
      ],
      "source": [
        "!pip install whit-phys-util"
      ]
    },
    {
      "cell_type": "code",
      "source": [
        "import whit_phys_util as buc\n",
        "from scipy.integrate import solve_ivp\n",
        "import numpy as np\n",
        "from numpy import cos, sin\n",
        "import matplotlib.pyplot as plt"
      ],
      "metadata": {
        "colab": {
          "base_uri": "https://localhost:8080/"
        },
        "id": "8pUag0HYI_no",
        "outputId": "c807bb66-e728-4dea-9b89-ff19c99fec77"
      },
      "execution_count": 2,
      "outputs": [
        {
          "output_type": "stream",
          "name": "stdout",
          "text": [
            "Mounted at /content/drive\n"
          ]
        }
      ]
    },
    {
      "cell_type": "code",
      "source": [
        "repo = buc.local_repository(\"https://github.com/cambo2018/Advanced-Dynamics\")"
      ],
      "metadata": {
        "colab": {
          "base_uri": "https://localhost:8080/"
        },
        "id": "8mWSvM_3I_k6",
        "outputId": "fb67df34-5647-46f5-830c-0f6d0932f156"
      },
      "execution_count": 3,
      "outputs": [
        {
          "output_type": "stream",
          "name": "stdout",
          "text": [
            "Cloning repository from GitHub.\n"
          ]
        }
      ]
    },
    {
      "cell_type": "code",
      "source": [
        "gamma = 1.3\n",
        "w = 2*np.pi\n",
        "w0 = 1.5*w\n",
        "beta = w0/4"
      ],
      "metadata": {
        "id": "PJzISywdI_iR"
      },
      "execution_count": 4,
      "outputs": []
    },
    {
      "cell_type": "code",
      "source": [
        "def solver(t, u):\n",
        "  [phi, phidot] = u\n",
        "  function = [u[1], gamma*w0**2*cos(w*t) - 2*beta*phidot - w0**2*sin(phi)]\n",
        "  return function"
      ],
      "metadata": {
        "id": "Xzt_S-CkI_fR"
      },
      "execution_count": 5,
      "outputs": []
    },
    {
      "cell_type": "code",
      "source": [
        "time = [0,8]\n",
        "tspan = np.linspace(0, time[-1], 2837)\n",
        "\n",
        "y1 = [0, 0]\n",
        "phi1 = solve_ivp(solver, time, y1, t_eval=tspan, rtol=1e-12)\n",
        "\n",
        "phaselock = phi1.y[0] + 2*np.pi*tspan"
      ],
      "metadata": {
        "id": "djKTztrvIqF7"
      },
      "execution_count": 6,
      "outputs": []
    },
    {
      "cell_type": "code",
      "source": [
        "fig, ax = plt.subplots(2, figsize=(5,7))\n",
        "\n",
        "ax[0].plot(phi1.t, phi1.y[0], label='$\\phi$1')\n",
        "ax[1].plot(phi1.t, phaselock, label='phaselock')\n",
        "\n",
        "ax[1].set_xlabel('Time (s)')\n",
        "\n",
        "ax[0].set_ylabel('Angle (rad)')\n",
        "ax[1].set_ylabel('Angle (rad)')\n",
        "\n",
        "ax[0].legend()\n",
        "ax[1].legend();"
      ],
      "metadata": {
        "id": "u8d0hG_iI_OF",
        "colab": {
          "base_uri": "https://localhost:8080/",
          "height": 442
        },
        "outputId": "ca38236f-76f4-46c7-857c-f3aa9337df40"
      },
      "execution_count": 7,
      "outputs": [
        {
          "output_type": "display_data",
          "data": {
            "text/plain": [
              "<Figure size 360x504 with 2 Axes>"
            ],
            "image/png": "[encoded data removed]"
          },
          "metadata": {
            "needs_background": "light"
          }
        }
      ]
    },
    {
      "cell_type": "markdown",
      "source": [
        "The plot of $\\phi$1 appears to be an overall decrease in angle with periodic bumps increasing the angle.\n",
        "\n",
        "The plot for part b makes is a lot easier to see that this is in fact periodic.  It looks like the motion of a regular DDP in this plot."
      ],
      "metadata": {
        "id": "8W_kb6UuMP1w"
      }
    },
    {
      "cell_type": "code",
      "source": [
        "buc.notebook_to_pdf(repo, author=\"Cameron Brewer\", title=\"12.17\")"
      ],
      "metadata": {
        "colab": {
          "base_uri": "https://localhost:8080/",
          "height": 252
        },
        "id": "tDg_8pjTTb8J",
        "outputId": "3bedcb90-8bef-46f8-844a-d493a3a79ba3"
      },
      "execution_count": null,
      "outputs": [
        {
          "output_type": "stream",
          "name": "stdout",
          "text": [
            "Installing required packages. This often takes 1-2 minutes.\n",
            "Preparing to convert '12_14.ipynb'\n",
            "jupyter nbconvert --output-dir='/tmp' '/tmp/12_14.ipynb' --to pdf\n",
            "[NbConvertApp] Converting notebook /tmp/12_14.ipynb to pdf\n",
            "[NbConvertApp] Support files will be in 12_14_files/\n",
            "[NbConvertApp] Making directory ./12_14_files\n",
            "[NbConvertApp] Writing 29125 bytes to ./notebook.tex\n",
            "[NbConvertApp] Building PDF\n",
            "[NbConvertApp] Running xelatex 3 times: ['xelatex', './notebook.tex', '-quiet']\n",
            "[NbConvertApp] Running bibtex 1 time: ['bibtex', './notebook']\n",
            "[NbConvertApp] WARNING | bibtex had problems, most likely because there were no citations\n",
            "[NbConvertApp] PDF successfully created\n",
            "[NbConvertApp] Writing 47127 bytes to /tmp/12_14.pdf\n"
          ]
        },
        {
          "output_type": "display_data",
          "data": {
            "text/plain": [
              "<IPython.core.display.Javascript object>"
            ],
            "application/javascript": [
              "\n",
              "    async function download(id, filename, size) {\n",
              "      if (!google.colab.kernel.accessAllowed) {\n",
              "        return;\n",
              "      }\n",
              "      const div = document.createElement('div');\n",
              "      const label = document.createElement('label');\n",
              "      label.textContent = `Downloading \"${filename}\": `;\n",
              "      div.appendChild(label);\n",
              "      const progress = document.createElement('progress');\n",
              "      progress.max = size;\n",
              "      div.appendChild(progress);\n",
              "      document.body.appendChild(div);\n",
              "\n",
              "      const buffers = [];\n",
              "      let downloaded = 0;\n",
              "\n",
              "      const channel = await google.colab.kernel.comms.open(id);\n",
              "      // Send a message to notify the kernel that we're ready.\n",
              "      channel.send({})\n",
              "\n",
              "      for await (const message of channel.messages) {\n",
              "        // Send a message to notify the kernel that we're ready.\n",
              "        channel.send({})\n",
              "        if (message.buffers) {\n",
              "          for (const buffer of message.buffers) {\n",
              "            buffers.push(buffer);\n",
              "            downloaded += buffer.byteLength;\n",
              "            progress.value = downloaded;\n",
              "          }\n",
              "        }\n",
              "      }\n",
              "      const blob = new Blob(buffers, {type: 'application/binary'});\n",
              "      const a = document.createElement('a');\n",
              "      a.href = window.URL.createObjectURL(blob);\n",
              "      a.download = filename;\n",
              "      div.appendChild(a);\n",
              "      a.click();\n",
              "      div.remove();\n",
              "    }\n",
              "  "
            ]
          },
          "metadata": {}
        },
        {
          "output_type": "display_data",
          "data": {
            "text/plain": [
              "<IPython.core.display.Javascript object>"
            ],
            "application/javascript": [
              "download(\"download_491f72a5-d17c-4706-9324-4926cabef39f\", \"12_14.pdf\", 47127)"
            ]
          },
          "metadata": {}
        }
      ]
    }
  ]
}