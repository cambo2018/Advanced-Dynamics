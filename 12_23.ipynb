{
  "nbformat": 4,
  "nbformat_minor": 0,
  "metadata": {
    "colab": {
      "name": "12_23.ipynb",
      "provenance": [],
      "authorship_tag": "ABX9TyOoOPLX3qHIL7Eds15hfRbd",
      "include_colab_link": true
    },
    "kernelspec": {
      "name": "python3",
      "display_name": "Python 3"
    },
    "language_info": {
      "name": "python"
    }
  },
  "cells": [
    {
      "cell_type": "markdown",
      "metadata": {
        "id": "view-in-github",
        "colab_type": "text"
      },
      "source": [
        "<a href=\"https://colab.research.google.com/github/cambo2018/Advanced-Dynamics/blob/main/12_23.ipynb\" target=\"_parent\"><img src=\"https://colab.research.google.com/assets/colab-badge.svg\" alt=\"Open In Colab\"/></a>"
      ]
    },
    {
      "cell_type": "code",
      "execution_count": 1,
      "metadata": {
        "id": "JS6gxPHya4S4"
      },
      "outputs": [],
      "source": [
        "!pip install whit-phys-util 1> /dev/null"
      ]
    },
    {
      "cell_type": "code",
      "source": [
        "import whit_phys_util as buc\n",
        "import numpy as np\n",
        "import matplotlib.pyplot as plt"
      ],
      "metadata": {
        "colab": {
          "base_uri": "https://localhost:8080/"
        },
        "id": "XAttNEoRbHug",
        "outputId": "68c66735-32e3-4b79-e4eb-1342861b39ba"
      },
      "execution_count": 3,
      "outputs": [
        {
          "output_type": "stream",
          "name": "stdout",
          "text": [
            "Mounted at /content/drive\n"
          ]
        }
      ]
    },
    {
      "cell_type": "code",
      "source": [
        "repo = buc.local_repository(\"https://github.com/cambo2018/Advanced-Dynamics\")"
      ],
      "metadata": {
        "colab": {
          "base_uri": "https://localhost:8080/"
        },
        "id": "xHjKsl-VbIQT",
        "outputId": "2498a6be-77d0-47a4-fca6-8da60a6a16b5"
      },
      "execution_count": 4,
      "outputs": [
        {
          "output_type": "stream",
          "name": "stdout",
          "text": [
            "Cloning repository from GitHub.\n"
          ]
        }
      ]
    },
    {
      "cell_type": "code",
      "source": [
        "x = np.linspace(0,1,1000)\n",
        "r1 = .2\n",
        "r2 = 1"
      ],
      "metadata": {
        "id": "bq3t5CU_bKVv"
      },
      "execution_count": 5,
      "outputs": []
    },
    {
      "cell_type": "code",
      "source": [
        "def f(r,x):\n",
        "  f = r*np.sin(np.pi*x)\n",
        "  return f"
      ],
      "metadata": {
        "id": "lc_Va8dbbKTk"
      },
      "execution_count": 6,
      "outputs": []
    },
    {
      "cell_type": "code",
      "source": [
        "f1 = f(r1,x)\n",
        "f2 = f(r2,x)"
      ],
      "metadata": {
        "id": "DF35p4X8cyu9"
      },
      "execution_count": 7,
      "outputs": []
    },
    {
      "cell_type": "code",
      "source": [
        "fig, ax = plt.subplots()\n",
        "\n",
        "ax.plot(x,x)\n",
        "ax.plot(x,f1, label='r=.2')\n",
        "ax.plot(x,f2, label='r=1')\n",
        "\n",
        "ax.set_xlabel('x')\n",
        "ax.set_ylabel('f(x)')\n",
        "\n",
        "ax.legend();"
      ],
      "metadata": {
        "colab": {
          "base_uri": "https://localhost:8080/",
          "height": 279
        },
        "id": "RK6jplPSbKRG",
        "outputId": "f26e89bd-e153-4af9-a9b0-b3a4075badf8"
      },
      "execution_count": 8,
      "outputs": [
        {
          "output_type": "display_data",
          "data": {
            "text/plain": [
              "<Figure size 432x288 with 1 Axes>"
            ],
            "image/png": "[encoded data removed]"
          },
          "metadata": {
            "needs_background": "light"
          }
        }
      ]
    },
    {
      "cell_type": "markdown",
      "source": [
        "# a)\n",
        "> There is always a fixed point at $x^* = 0$. Only this fixed point is active when $r$ is small.  When $r$ is bigger, a second fixed point appears, as evidenced by the graph. \n",
        "$x^* = 0$ is stable for small $r$ because the curve is less than x at all points and will thus decrease with time.\n",
        "\n",
        "# b)\n",
        "> The second fixed point appears when $f(x) = x$.  This leads to a value of $r_0 = \\frac{x}{sin(\\pi x)}$.  Because all points between $x^* = 0$ and $x^* = x$ will be above $f(x) = x$, $f(x)$ will approach $x^* = x$. This means that $x^* = 0$ is unstable.\n",
        "\n",
        "# c)\n",
        "> "
      ],
      "metadata": {
        "id": "K8QDqg3ndsoo"
      }
    },
    {
      "cell_type": "code",
      "source": [
        "buc.notebook_to_pdf(repo, author=\"Cameron Brewer\", title=\"12.23\")"
      ],
      "metadata": {
        "id": "uabs3-5JbKOz"
      },
      "execution_count": null,
      "outputs": []
    }
  ]
}