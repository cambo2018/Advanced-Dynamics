{
  "nbformat": 4,
  "nbformat_minor": 0,
  "metadata": {
    "colab": {
      "name": "14_15.ipynb",
      "provenance": [],
      "collapsed_sections": [],
      "authorship_tag": "ABX9TyOBJN0AbNjnLlVy8eiECGM6",
      "include_colab_link": true
    },
    "kernelspec": {
      "name": "python3",
      "display_name": "Python 3"
    },
    "language_info": {
      "name": "python"
    }
  },
  "cells": [
    {
      "cell_type": "markdown",
      "metadata": {
        "id": "view-in-github",
        "colab_type": "text"
      },
      "source": [
        "<a href=\"https://colab.research.google.com/github/cambo2018/Advanced-Dynamics/blob/main/14_15.ipynb\" target=\"_parent\"><img src=\"https://colab.research.google.com/assets/colab-badge.svg\" alt=\"Open In Colab\"/></a>"
      ]
    },
    {
      "cell_type": "code",
      "execution_count": 1,
      "metadata": {
        "id": "dPtpW9oR4Vxw"
      },
      "outputs": [],
      "source": [
        "!pip install whit-phys-util 1> /dev/null"
      ]
    },
    {
      "cell_type": "code",
      "source": [
        "import whit_phys_util as buc\n",
        "from sympy import *\n",
        "import numpy as np\n",
        "import matplotlib.pyplot as plt"
      ],
      "metadata": {
        "id": "m0vKofop4d8Q"
      },
      "execution_count": 2,
      "outputs": []
    },
    {
      "cell_type": "code",
      "source": [
        "repo = buc.local_repository(\"https://github.com/cambo2018/Advanced-Dynamics\")"
      ],
      "metadata": {
        "id": "m103gnRC4d4Q",
        "colab": {
          "base_uri": "https://localhost:8080/"
        },
        "outputId": "349b3bde-cb00-45b2-8108-c50c0b47ffa8"
      },
      "execution_count": 3,
      "outputs": [
        {
          "output_type": "stream",
          "name": "stdout",
          "text": [
            "Repository exists at this location. Pulling changes from GitHub.\n"
          ]
        }
      ]
    },
    {
      "cell_type": "code",
      "source": [
        "var('b R erh phi')\n",
        "params = {erh:.5, R:1}"
      ],
      "metadata": {
        "id": "BpsXMqLTkjcT"
      },
      "execution_count": 4,
      "outputs": []
    },
    {
      "cell_type": "code",
      "source": [
        "theta = 2*(asin(b/R)-asin(erh*b/R))"
      ],
      "metadata": {
        "id": "-7U08tIykjZu"
      },
      "execution_count": 5,
      "outputs": []
    },
    {
      "cell_type": "code",
      "source": [
        "dthetadb = theta.diff(b)\n",
        "theta = theta.subs(params)"
      ],
      "metadata": {
        "id": "35Eqz_OPkjMd"
      },
      "execution_count": 6,
      "outputs": []
    },
    {
      "cell_type": "code",
      "source": [
        "fig = plot(theta)"
      ],
      "metadata": {
        "colab": {
          "base_uri": "https://localhost:8080/",
          "height": 297
        },
        "id": "jRaI8V2VHO7R",
        "outputId": "4cd91654-4856-4bf1-b5a7-657b75a95900"
      },
      "execution_count": 7,
      "outputs": [
        {
          "output_type": "display_data",
          "data": {
            "text/plain": [
              "<Figure size 432x288 with 1 Axes>"
            ],
            "image/png": "[encoded data removed]"
          },
          "metadata": {
            "needs_background": "light"
          }
        }
      ]
    },
    {
      "cell_type": "markdown",
      "source": [
        "#d."
      ],
      "metadata": {
        "id": "LuWjxf7TQ9wt"
      }
    },
    {
      "cell_type": "code",
      "source": [
        "dtheta = dthetadb.subs(params)\n",
        "dsigmadomega = b/sin(theta)*1/dtheta\n",
        "plot_parametric((theta,dsigmadomega), (b, 0, 1));"
      ],
      "metadata": {
        "id": "vYDo37sZkjXA",
        "colab": {
          "base_uri": "https://localhost:8080/",
          "height": 296
        },
        "outputId": "e6bab350-ef8c-4c80-e1e9-07002fd1f87b"
      },
      "execution_count": 9,
      "outputs": [
        {
          "output_type": "display_data",
          "data": {
            "text/plain": [
              "<Figure size 432x288 with 1 Axes>"
            ],
            "image/png": "[encoded data removed]"
          },
          "metadata": {
            "needs_background": "light"
          }
        }
      ]
    },
    {
      "cell_type": "markdown",
      "source": [
        "#e."
      ],
      "metadata": {
        "id": "5tQJgR_CRFB4"
      }
    },
    {
      "cell_type": "code",
      "source": [
        "integrand = dsigmadomega*sin(theta)\n",
        "sigma = 4*pi*integrand\n",
        "sigma.simplify()"
      ],
      "metadata": {
        "colab": {
          "base_uri": "https://localhost:8080/",
          "height": 60
        },
        "id": "iOOMRNtXam6l",
        "outputId": "4023a044-dfb3-48e2-eae1-78f7ae152dac"
      },
      "execution_count": 10,
      "outputs": [
        {
          "output_type": "execute_result",
          "data": {
            "text/plain": [
              "4.0*pi*b*sqrt(1 - b**2)*sqrt(1 - 0.25*b**2)/(-1.0*sqrt(1 - b**2) + 2.0*sqrt(1 - 0.25*b**2))"
            ],
            "text/latex": "$\\displaystyle \\frac{4.0 \\pi b \\sqrt{1 - b^{2}} \\sqrt{1 - 0.25 b^{2}}}{- 1.0 \\sqrt{1 - b^{2}} + 2.0 \\sqrt{1 - 0.25 b^{2}}}$"
          },
          "metadata": {},
          "execution_count": 10
        }
      ]
    },
    {
      "cell_type": "code",
      "source": [
        "buc.notebook_to_pdf(repo, author=\"Cameron Brewer\", title=\"14.15 part 2\")"
      ],
      "metadata": {
        "id": "BxUgUnVmcBnR"
      },
      "execution_count": null,
      "outputs": []
    }
  ]
}