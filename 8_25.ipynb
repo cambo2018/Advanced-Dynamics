{
  "nbformat": 4,
  "nbformat_minor": 0,
  "metadata": {
    "colab": {
      "name": "8_25.ipynb",
      "provenance": [],
      "collapsed_sections": [],
      "authorship_tag": "ABX9TyNLzygYCmJZmbAGnJjWTlK1",
      "include_colab_link": true
    },
    "kernelspec": {
      "name": "python3",
      "display_name": "Python 3"
    },
    "language_info": {
      "name": "python"
    }
  },
  "cells": [
    {
      "cell_type": "markdown",
      "metadata": {
        "id": "view-in-github",
        "colab_type": "text"
      },
      "source": [
        "<a href=\"https://colab.research.google.com/github/cambo2018/Advanced-Dynamics/blob/main/8_25.ipynb\" target=\"_parent\"><img src=\"https://colab.research.google.com/assets/colab-badge.svg\" alt=\"Open In Colab\"/></a>"
      ]
    },
    {
      "cell_type": "code",
      "execution_count": 1,
      "metadata": {
        "id": "j4fRVxoK4zI9"
      },
      "outputs": [],
      "source": [
        "!pip install whit-phys-util 1> /dev/null"
      ]
    },
    {
      "cell_type": "code",
      "source": [
        "import whit_phys_util as buc\n",
        "from sympy import *\n",
        "import matplotlib. pyplot as plt\n",
        "import numpy as np\n",
        "from scipy.integrate import solve_ivp"
      ],
      "metadata": {
        "id": "6k-OcPUi5I3h"
      },
      "execution_count": 2,
      "outputs": []
    },
    {
      "cell_type": "code",
      "source": [
        "repo = buc.local_repository(\"https://github.com/cambo2018/Advanced-Dynamics\")"
      ],
      "metadata": {
        "colab": {
          "base_uri": "https://localhost:8080/"
        },
        "id": "A86DhTED5Izm",
        "outputId": "0ac961a9-aff3-4b30-de14-4de14afe88e0"
      },
      "execution_count": 3,
      "outputs": [
        {
          "output_type": "stream",
          "name": "stdout",
          "text": [
            "Repository exists at this location. Pulling changes from GitHub.\n"
          ]
        }
      ]
    },
    {
      "cell_type": "code",
      "source": [
        "var('k r m l u')\n",
        "m = 1\n",
        "k = 1\n",
        "l = 1"
      ],
      "metadata": {
        "id": "Lwpvv6e65Iw8"
      },
      "execution_count": 4,
      "outputs": []
    },
    {
      "cell_type": "markdown",
      "source": [
        "# a)"
      ],
      "metadata": {
        "id": "6X7ivsqmG_M2"
      }
    },
    {
      "cell_type": "code",
      "source": [
        "F = -k/r**(5/2)\n",
        "U = -F.integrate(r)\n",
        "Ueff = U + (l**2)/(2*m*r**2)"
      ],
      "metadata": {
        "id": "8xrJpkEN5IuP"
      },
      "execution_count": 5,
      "outputs": []
    },
    {
      "cell_type": "code",
      "source": [
        "Ueff.simplify()"
      ],
      "metadata": {
        "colab": {
          "base_uri": "https://localhost:8080/",
          "height": 51
        },
        "id": "DAEKznHdD8GM",
        "outputId": "e40b0ab7-633a-45c2-f9e4-765c7075c042"
      },
      "execution_count": 6,
      "outputs": [
        {
          "output_type": "execute_result",
          "data": {
            "text/plain": [
              "r**(-2.0)/2 - 0.666666666666667*r**(-1.5)"
            ],
            "text/latex": "$\\displaystyle \\frac{1}{2 r^{2.0}} - \\frac{0.666666666666667}{r^{1.5}}$"
          },
          "metadata": {},
          "execution_count": 6
        }
      ]
    },
    {
      "cell_type": "code",
      "source": [
        "def minimize(U):\n",
        "  dUdr = U.diff(r)\n",
        "  r0 = solve(dUdr,r)\n",
        "  return r0"
      ],
      "metadata": {
        "id": "OMRp3PzUCukp"
      },
      "execution_count": 7,
      "outputs": []
    },
    {
      "cell_type": "code",
      "source": [
        "r0 = minimize(Ueff)[0]\n",
        "r0"
      ],
      "metadata": {
        "colab": {
          "base_uri": "https://localhost:8080/",
          "height": 37
        },
        "id": "X9Ih1qvbDaCm",
        "outputId": "bfcb14f7-909e-4767-acdf-41c44edf1d8b"
      },
      "execution_count": 8,
      "outputs": [
        {
          "output_type": "execute_result",
          "data": {
            "text/plain": [
              "1.00000000000000"
            ],
            "text/latex": "$\\displaystyle 1.0$"
          },
          "metadata": {},
          "execution_count": 8
        }
      ]
    },
    {
      "cell_type": "code",
      "source": [
        "fig1 = plot(Ueff, (r, 0,5*r0), ylim=(-.2,.2))"
      ],
      "metadata": {
        "colab": {
          "base_uri": "https://localhost:8080/",
          "height": 297
        },
        "id": "6MJho2a_za7P",
        "outputId": "6e06f194-0cb9-46b4-a7df-c9eb6eb62b3e"
      },
      "execution_count": 9,
      "outputs": [
        {
          "output_type": "display_data",
          "data": {
            "text/plain": [
              "<Figure size 432x288 with 1 Axes>"
            ],
            "image/png": "[encoded data removed]"
          },
          "metadata": {
            "needs_background": "light"
          }
        }
      ]
    },
    {
      "cell_type": "markdown",
      "source": [
        "# b)"
      ],
      "metadata": {
        "id": "7MFOj81mHEs7"
      }
    },
    {
      "cell_type": "code",
      "source": [
        "E = -0.1"
      ],
      "metadata": {
        "id": "gOsBV4icGd7R"
      },
      "execution_count": 11,
      "outputs": []
    },
    {
      "cell_type": "code",
      "source": [
        "Ueff"
      ],
      "metadata": {
        "id": "8Bbc93dO0nVU"
      },
      "execution_count": null,
      "outputs": []
    },
    {
      "cell_type": "code",
      "source": [
        "rmin = solve(Ueff-E,r)[0]\n",
        "rmin "
      ],
      "metadata": {
        "colab": {
          "base_uri": "https://localhost:8080/",
          "height": 37
        },
        "id": "2h7M1z7akcIu",
        "outputId": "57231cd6-d09b-45c7-8d71-f72017593527"
      },
      "execution_count": 13,
      "outputs": [
        {
          "output_type": "execute_result",
          "data": {
            "text/plain": [
              "0.667079279988211"
            ],
            "text/latex": "$\\displaystyle 0.667079279988211$"
          },
          "metadata": {},
          "execution_count": 13
        }
      ]
    },
    {
      "cell_type": "markdown",
      "source": [
        "# c)"
      ],
      "metadata": {
        "id": "A8JhkTJulDtc"
      }
    },
    {
      "cell_type": "code",
      "source": [
        "phi = [0,7*np.pi]\n",
        "phirange = np.linspace(0,phi[-1],10000)"
      ],
      "metadata": {
        "id": "WLGwFkGRkgTq"
      },
      "execution_count": 20,
      "outputs": []
    },
    {
      "cell_type": "code",
      "source": [
        "F = -k*u**(5/2)"
      ],
      "metadata": {
        "id": "o33gGcHNoS4I"
      },
      "execution_count": 21,
      "outputs": []
    },
    {
      "cell_type": "code",
      "source": [
        "def solver(phi, q):\n",
        "  [u, uprime] = q\n",
        "  function = [uprime, -u + u**.5]\n",
        "  return function"
      ],
      "metadata": {
        "id": "oFRm4ZQI4dsw"
      },
      "execution_count": 22,
      "outputs": []
    },
    {
      "cell_type": "code",
      "source": [
        "y0 = [1/rmin, 0]\n",
        "\n",
        "solution = solve_ivp(solver, phi, y0, t_eval=phirange)\n",
        "phi = solution.t\n",
        "r = 1/solution.y[0]"
      ],
      "metadata": {
        "id": "djKTztrvIqF7"
      },
      "execution_count": 23,
      "outputs": []
    },
    {
      "cell_type": "code",
      "source": [
        "fig, ax = plt.subplots(subplot_kw={'projection':'polar'})\n",
        "\n",
        "ax.plot(phi, r);"
      ],
      "metadata": {
        "id": "u8d0hG_iI_OF",
        "colab": {
          "base_uri": "https://localhost:8080/",
          "height": 286
        },
        "outputId": "5fc5ecd0-4cb9-4e1d-b38d-23bea4772e71"
      },
      "execution_count": 25,
      "outputs": [
        {
          "output_type": "display_data",
          "data": {
            "text/plain": [
              "<Figure size 432x288 with 1 Axes>"
            ],
            "image/png": "[encoded data removed]"
          },
          "metadata": {
            "needs_background": "light"
          }
        }
      ]
    },
    {
      "cell_type": "code",
      "source": [
        "# this does not appear to be closed"
      ],
      "metadata": {
        "id": "xHd8gZDH8Zg2"
      },
      "execution_count": null,
      "outputs": []
    }
  ]
}