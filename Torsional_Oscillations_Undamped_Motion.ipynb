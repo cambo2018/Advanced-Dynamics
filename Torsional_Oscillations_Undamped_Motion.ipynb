{
  "nbformat": 4,
  "nbformat_minor": 0,
  "metadata": {
    "colab": {
      "name": "Torsional Oscillations - Undamped Motion.ipynb",
      "provenance": [],
      "collapsed_sections": []
    },
    "kernelspec": {
      "name": "python3",
      "display_name": "Python 3"
    },
    "language_info": {
      "name": "python"
    }
  },
  "cells": [
    {
      "cell_type": "markdown",
      "source": [
        "**Work was done by: Cameron Brewer, Jonas Hildebrand, Matthew Lochridge** \n",
        "\n",
        "**Data was collected on: February 15, 2022**"
      ],
      "metadata": {
        "id": "Gyq9vT_UiUft"
      }
    },
    {
      "cell_type": "markdown",
      "source": [
        "# Install and Import Libraries"
      ],
      "metadata": {
        "id": "BzfJAxV9sUuj"
      }
    },
    {
      "cell_type": "code",
      "source": [
        "!pip install whit-phys-util 1>/dev/null"
      ],
      "metadata": {
        "id": "Dyl7vnLasgdw"
      },
      "execution_count": 1,
      "outputs": []
    },
    {
      "cell_type": "code",
      "source": [
        "import numpy as np\n",
        "import pandas as pd\n",
        "import matplotlib.pyplot as plt\n",
        "import whit_phys_util as buc"
      ],
      "metadata": {
        "id": "3WpFHiKosjbB",
        "outputId": "4cd8d8f6-2608-41f6-9c9b-60d47026b5ce",
        "colab": {
          "base_uri": "https://localhost:8080/"
        }
      },
      "execution_count": 2,
      "outputs": [
        {
          "output_type": "stream",
          "name": "stdout",
          "text": [
            "Mounted at /content/drive\n"
          ]
        }
      ]
    },
    {
      "cell_type": "markdown",
      "source": [
        "# Connect to GitHub"
      ],
      "metadata": {
        "id": "gUVzkfWtTI_H"
      }
    },
    {
      "cell_type": "code",
      "source": [
        "repo = buc.local_repository(\"https://github.com/PS353-SP22/undamped-torsional-oscillations-group-3-cbjhml\")"
      ],
      "metadata": {
        "id": "yBRVtGeXS8pv",
        "outputId": "9dccf583-cc8b-475f-ed34-0d7e77010bb1",
        "colab": {
          "base_uri": "https://localhost:8080/"
        }
      },
      "execution_count": 3,
      "outputs": [
        {
          "output_type": "stream",
          "name": "stdout",
          "text": [
            "Cloning repository from GitHub.\n"
          ]
        }
      ]
    },
    {
      "cell_type": "markdown",
      "source": [
        "# Equipment\n",
        "| Description | Manufacturer | Model | ID or SN |\n",
        "| ----------- | ------------ | ----- | -------- |\n",
        "| torsional oscillator | TeachSpin | TO 1-A | TO227 |\n",
        "| digital multimeter | Fluke | 179 True RMS | 49750067 |\n",
        "| oscilloscope | Siglent | SDS 1052DL | SDS 100P1151565 |"
      ],
      "metadata": {
        "id": "qNaNYRDkia-T"
      }
    },
    {
      "cell_type": "markdown",
      "source": [
        "# Introduction to the Instrument\n",
        "_Refer to section 1 of the lab guide and briefly summarize what you do in the **Procedure** section_\n",
        "\n",
        "_Record your observations in the **Observation** section_\n"
      ],
      "metadata": {
        "id": "5KxJqDdYjh9x"
      }
    },
    {
      "cell_type": "markdown",
      "source": [
        "## Procedure"
      ],
      "metadata": {
        "id": "2vSmPjeXpV36"
      }
    },
    {
      "cell_type": "markdown",
      "source": [
        "## Observations"
      ],
      "metadata": {
        "id": "V0ih3XFZpYaN"
      }
    },
    {
      "cell_type": "markdown",
      "source": [
        "# Determining the Torsion Constant Using a Static Method\n",
        "\n",
        "_Refer to section 2 of the lab guide and briefly summarize what you do in the **Procedure** section.  Record your data and analysis in the sections that follow._\n"
      ],
      "metadata": {
        "id": "ikXzm0VFkJ86"
      }
    },
    {
      "cell_type": "markdown",
      "source": [
        "## Procedure"
      ],
      "metadata": {
        "id": "UAiSLCh5o_9r"
      }
    },
    {
      "cell_type": "markdown",
      "source": [
        "## Data\n",
        "\n",
        "### Measured angular deflection as a function of suspended mass\n",
        "\n",
        "⚠ **WARNING:** The angular deflection must be kept under 2 radians\n",
        "\n",
        "As a temporary measure a 2D array named `rawData` will hold the data. The first column is the mass, in kilograms, suspended from each pulley. The case of 0 kg represents the cno holder attached.  The weight holder itself has a mass of 50 g.  Delete any unused rows (situations where the deflection would have exceeded 2 radians). The `?` are placeholders and should be replaced with your measurements.\n",
        "\n",
        "This will then be transformed into a DataFrame named `angleDueToMass`."
      ],
      "metadata": {
        "id": "i1p-pqaspIYF"
      }
    },
    {
      "cell_type": "code",
      "execution_count": null,
      "metadata": {
        "id": "UOKvsdk7iOvs"
      },
      "outputs": [],
      "source": [
        "rawData = np.array([\n",
        "                    [0, ?],\n",
        "                    [0.050, ?],\n",
        "                    [0.100, ?],\n",
        "                    [0.150, ?],\n",
        "                    [0.200, ?],\n",
        "                    [0.250, ?],\n",
        "                    [0.300, ?],\n",
        "                    [0.350, ?],\n",
        "                    [0.400, ?]\n",
        "                  ])\n",
        "R = ? # radius of the hub, in meters\n",
        "\n",
        "angleDueToMass = pd.DataFrame(data=rawData, columns=['Mass (kg)', 'Angular Position (rad)'])"
      ]
    },
    {
      "cell_type": "markdown",
      "source": [
        "## Analysis\n",
        "For small enough torques, the relationship between the magnitude of the torque and angular displacement is given by $\\Gamma = \\kappa \\theta$. Plotting $\\Gamma$ vs. $\\theta$ allows the torsion constant, $\\kappa$, to be determined; it is simply the slope."
      ],
      "metadata": {
        "id": "Dq-9m6YZo1Ss"
      }
    },
    {
      "cell_type": "markdown",
      "source": [
        "### Calculation of torques and displacements\n",
        "In the configuration studied, $\\Gamma = 2 m g R$, where $m$ is the mass suspended from each pulley and $R$ is the radius of the hub.\n",
        "\n",
        "Displacement is the difference in angular positions between the deflection with zero mass and the one with non-zero mass. Depending on how you wound the string, the angular positions either increased or decreased with increasing mass. Define the displacement such that it gives you positive values as you increase the mass."
      ],
      "metadata": {
        "id": "XgzA5TbdrzZy"
      }
    },
    {
      "cell_type": "code",
      "source": [
        "g = 9.80 # gravitational field strength (m/s^2)\n",
        "angleDueToMass['Torque (N*m)'] = 2*angleDueToMass['Mass (kg)']*g*R\n",
        "angleDueToMass['Angular Displacement (rad)'] = angleDueToMass['Angular Position (rad)'][0] - angleDueToMass['Angular Position (rad)']\n",
        "angleDueToMass"
      ],
      "metadata": {
        "id": "n55l9_lyrsxL"
      },
      "execution_count": null,
      "outputs": []
    },
    {
      "cell_type": "markdown",
      "source": [
        "### Plot of data and best fit line\n",
        "\n",
        "Plot the $\\Gamma$ vs. $\\theta$ data. Add the best fit line. Add appropriate labels to the axes."
      ],
      "metadata": {
        "id": "Vw8hbdwBxsEv"
      }
    },
    {
      "cell_type": "code",
      "source": [
        "fig1, ax1 = plt.subplots()"
      ],
      "metadata": {
        "id": "EAsV6CBryNls"
      },
      "execution_count": null,
      "outputs": []
    },
    {
      "cell_type": "markdown",
      "source": [
        "# Calculation of the torsion constant\n",
        "\n",
        "The torsion constant $\\kappa$ is simply equal to the slope if you made the specified plot. The correct value of the torsion constant lies between 0.01 and 1.0 N$\\cdot$m. If your value falls outside of this, the most common explanation is that you are struggling with understanding what the phrase **a vs. b** means.\n",
        "\n",
        "We will use the variable `k` to hold the value of the torsion constant and `dk` its uncertainty. Fill in the code to get these from your best fit results (don't copy numbers by hand)."
      ],
      "metadata": {
        "id": "5NzpT_Y2yZJe"
      }
    },
    {
      "cell_type": "code",
      "source": [
        "k = ???\n",
        "dk = ???"
      ],
      "metadata": {
        "id": "8yCWg9HYzeC6"
      },
      "execution_count": null,
      "outputs": []
    },
    {
      "cell_type": "markdown",
      "source": [
        "# Calibrating the Angular Position Transducer"
      ],
      "metadata": {
        "id": "O7ZpVGceUkAU"
      }
    },
    {
      "cell_type": "markdown",
      "source": [
        "## Procedure\n",
        "\n",
        "Refer to section 3 of the lab guide and summarize the procedure below."
      ],
      "metadata": {
        "id": "-t0teDskUp2g"
      }
    },
    {
      "cell_type": "markdown",
      "source": [
        "## Data"
      ],
      "metadata": {
        "id": "2UU39zWnVBvF"
      }
    },
    {
      "cell_type": "markdown",
      "source": [
        "### Angular position transducer output as function of angular position\n",
        "\n",
        "❗ **NOTE:** Do not exceed 1.4 radian displacement from equilibrium."
      ],
      "metadata": {
        "id": "uxMvxvxmVE27"
      }
    },
    {
      "cell_type": "code",
      "source": [
        "# angular position (rad), transducer voltage (V)\n",
        "rawData = np.array([\n",
        "                    [?, ?],\n",
        "                    [?, ?],\n",
        "                    [?, ?],\n",
        "                    [?, ?],\n",
        "                    [?, ?],\n",
        "                    [?, ?],\n",
        "                    [?, ?],\n",
        "                    [?, ?],\n",
        "                    [?, ?]\n",
        "                  ])\n",
        "\n",
        "voltageDueToAngle = pd.DataFrame(data=rawData, columns=['Angular Position (rad)', 'Transducer Voltage (V)'])"
      ],
      "metadata": {
        "id": "O5xM7mboUpL7"
      },
      "execution_count": null,
      "outputs": []
    },
    {
      "cell_type": "markdown",
      "source": [
        "## Analysis\n",
        "\n",
        "_Plot the angle vs. voltage data. Add a best fit line. Write a function (to be used later) that returns an angle given a transducer voltage._"
      ],
      "metadata": {
        "id": "BN1D71ZhWmxG"
      }
    },
    {
      "cell_type": "code",
      "source": [
        "fig2, ax2 = plt.subplots()"
      ],
      "metadata": {
        "id": "Nf3mkiEFWENx"
      },
      "execution_count": null,
      "outputs": []
    },
    {
      "cell_type": "markdown",
      "source": [
        "# Determining the Torsion Constant Using a Dynamic Method"
      ],
      "metadata": {
        "id": "IO6uCF-gXCLP"
      }
    },
    {
      "cell_type": "markdown",
      "source": [
        "## Procedure\n",
        "\n",
        "_Refer to section 4 of the lab guide and summarize the procedure here._"
      ],
      "metadata": {
        "id": "HbJkSpxlXGrb"
      }
    },
    {
      "cell_type": "markdown",
      "source": [
        "## Data"
      ],
      "metadata": {
        "id": "4i_KaEKdXN0N"
      }
    },
    {
      "cell_type": "code",
      "source": [
        ""
      ],
      "metadata": {
        "id": "kMnSUYIYXS33"
      },
      "execution_count": null,
      "outputs": []
    },
    {
      "cell_type": "markdown",
      "source": [
        "## Analysis"
      ],
      "metadata": {
        "id": "M0-VhdvRXQ-j"
      }
    },
    {
      "cell_type": "code",
      "source": [
        ""
      ],
      "metadata": {
        "id": "YwaMptp1XGTi"
      },
      "execution_count": null,
      "outputs": []
    }
  ]
}