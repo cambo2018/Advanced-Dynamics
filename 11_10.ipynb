{
  "nbformat": 4,
  "nbformat_minor": 0,
  "metadata": {
    "colab": {
      "name": "11_10.ipynb",
      "provenance": [],
      "collapsed_sections": [],
      "authorship_tag": "ABX9TyNa5NE5r3ykjZ4BBIl4RVJ2",
      "include_colab_link": true
    },
    "kernelspec": {
      "name": "python3",
      "display_name": "Python 3"
    },
    "language_info": {
      "name": "python"
    }
  },
  "cells": [
    {
      "cell_type": "markdown",
      "metadata": {
        "id": "view-in-github",
        "colab_type": "text"
      },
      "source": [
        "<a href=\"https://colab.research.google.com/github/cambo2018/Advanced-Dynamics/blob/main/11_10.ipynb\" target=\"_parent\"><img src=\"https://colab.research.google.com/assets/colab-badge.svg\" alt=\"Open In Colab\"/></a>"
      ]
    },
    {
      "cell_type": "code",
      "execution_count": 17,
      "metadata": {
        "id": "tEPM3FxZvXT-",
        "colab": {
          "base_uri": "https://localhost:8080/"
        },
        "outputId": "d5df60ed-1b45-4fee-99bd-ea0f125279e7"
      },
      "outputs": [
        {
          "output_type": "stream",
          "name": "stdout",
          "text": [
            "Collecting whit-phys-util\n",
            "  Downloading whit_phys_util-0.2.7-py3-none-any.whl (11 kB)\n",
            "Collecting python-dotenv>=0.10.4\n",
            "  Downloading python_dotenv-0.19.2-py2.py3-none-any.whl (17 kB)\n",
            "Collecting pydantic>=1.7.3\n",
            "  Downloading pydantic-1.9.0-cp37-cp37m-manylinux_2_17_x86_64.manylinux2014_x86_64.whl (10.9 MB)\n",
            "\u001b[K     |████████████████████████████████| 10.9 MB 11.4 MB/s \n",
            "\u001b[?25hRequirement already satisfied: typing-extensions>=3.7.4.3 in /usr/local/lib/python3.7/dist-packages (from pydantic>=1.7.3->whit-phys-util) (3.10.0.2)\n",
            "Installing collected packages: python-dotenv, pydantic, whit-phys-util\n",
            "Successfully installed pydantic-1.9.0 python-dotenv-0.19.2 whit-phys-util-0.2.7\n"
          ]
        }
      ],
      "source": [
        "!pip install whit-phys-util"
      ]
    },
    {
      "cell_type": "code",
      "source": [
        "import whit_phys_util as buc\n",
        "from sympy import *\n",
        "from scipy.integrate import solve_ivp\n",
        "import matplotlib.pyplot as plt\n",
        "import numpy as np"
      ],
      "metadata": {
        "id": "GUGhsWS5vg2t",
        "colab": {
          "base_uri": "https://localhost:8080/"
        },
        "outputId": "5954b55b-74d3-4423-e2fa-62c4ed468e77"
      },
      "execution_count": 18,
      "outputs": [
        {
          "output_type": "stream",
          "name": "stdout",
          "text": [
            "Mounted at /content/drive\n"
          ]
        }
      ]
    },
    {
      "cell_type": "code",
      "source": [
        "repo = buc.local_repository(\"https://github.com/cambo2018/Advanced-Dynamics\")"
      ],
      "metadata": {
        "id": "sd4zhboYvg0Z",
        "colab": {
          "base_uri": "https://localhost:8080/"
        },
        "outputId": "6456b08d-5d2c-4982-a92d-59dd3a01ecec"
      },
      "execution_count": 25,
      "outputs": [
        {
          "output_type": "stream",
          "name": "stdout",
          "text": [
            "Cloning repository from GitHub.\n"
          ]
        }
      ]
    },
    {
      "cell_type": "code",
      "source": [
        "var('A beta t w01 w02 delta1 delta2 x1 x2 b m k')"
      ],
      "metadata": {
        "id": "F2d5Hg8hvgyR",
        "colab": {
          "base_uri": "https://localhost:8080/"
        },
        "outputId": "4b61acd6-052d-4d95-fbe5-cec0492dbe9e"
      },
      "execution_count": 19,
      "outputs": [
        {
          "output_type": "execute_result",
          "data": {
            "text/plain": [
              "(A, beta, t, w01, w02, delta1, delta2, x1, x2, b, m, k)"
            ]
          },
          "metadata": {},
          "execution_count": 19
        }
      ]
    },
    {
      "cell_type": "code",
      "source": [
        "A = 1\n",
        "k = 1\n",
        "m = 1\n",
        "b = 0.1\n",
        "\n",
        "beta = b/(2*m)\n",
        "w01 = sqrt(k/m)\n",
        "w02 = sqrt(3*k/m)"
      ],
      "metadata": {
        "id": "f2wphx4pERDd"
      },
      "execution_count": 20,
      "outputs": []
    },
    {
      "cell_type": "code",
      "source": [
        "def solver(t, u):\n",
        "  [x1, x2, xdot1, xdot2] = u\n",
        "  xddot1 = -2*k/m*x1 - b*xdot1 + k*x2\n",
        "  xddot2 = k/m*x1 - b*xdot2 - 2*k*x2\n",
        "  function = [xdot1, xdot2, xddot1, xddot2]\n",
        "  return function"
      ],
      "metadata": {
        "id": "x9nKZgKksqXp"
      },
      "execution_count": 21,
      "outputs": []
    },
    {
      "cell_type": "code",
      "source": [
        "time = [0,10*np.pi]\n",
        "tspan = np.linspace(0,10*np.pi,2837)\n",
        "\n",
        "y0 = [A, 0, 0, 0]\n",
        "\n",
        "solution = solve_ivp(solver, time, y0)"
      ],
      "metadata": {
        "id": "vLH75RxcsqU5"
      },
      "execution_count": 22,
      "outputs": []
    },
    {
      "cell_type": "code",
      "source": [
        "fig, ax = plt.subplots(2)\n",
        "ax[0].plot(solution.t, solution.y[0]);\n",
        "ax[0].set_ylabel(\"x1 (m)\");\n",
        "ax[1].plot(solution.t, solution.y[1]);\n",
        "ax[1].set_ylabel(\"x2 (m)\");\n",
        "ax[1].set_xlabel(\"Time (s)\");"
      ],
      "metadata": {
        "colab": {
          "base_uri": "https://localhost:8080/",
          "height": 279
        },
        "id": "7N9DSb7XspuN",
        "outputId": "ca04628d-6acf-4a1d-c300-cb5954bc82d9"
      },
      "execution_count": 23,
      "outputs": [
        {
          "output_type": "display_data",
          "data": {
            "image/png": "[encoded data removed]",
            "text/plain": [
              "<Figure size 432x288 with 2 Axes>"
            ]
          },
          "metadata": {
            "needs_background": "light"
          }
        }
      ]
    },
    {
      "cell_type": "code",
      "source": [
        "x1 = A*exp(-beta*t)*(cos(sqrt(w01**2-beta**2)*t-delta1) + cos(sqrt(w02**2-beta**2)*t-delta2))\n",
        "x2 = A*exp(-beta*t)*(cos(sqrt(w01**2-beta**2)*t-delta1) - cos(sqrt(w02**2-beta**2)*t-delta2))"
      ],
      "metadata": {
        "id": "7K29AKGxvgvd"
      },
      "execution_count": null,
      "outputs": []
    },
    {
      "cell_type": "code",
      "source": [
        "xdot1 = x1.diff(t)\n",
        "xdot2 = x2.diff(t)"
      ],
      "metadata": {
        "id": "qgxlbVOQvgsv"
      },
      "execution_count": null,
      "outputs": []
    },
    {
      "cell_type": "code",
      "source": [
        "x1_init = x1.subs(t,0)\n",
        "x2_init = x2.subs(t,0)"
      ],
      "metadata": {
        "id": "CkuCEpLHvgj_"
      },
      "execution_count": null,
      "outputs": []
    },
    {
      "cell_type": "code",
      "source": [
        "xdot1_init = xdot1.subs(t,0)\n",
        "xdot2_init = xdot2.subs(t,0)"
      ],
      "metadata": {
        "id": "r5siMYs0vghk"
      },
      "execution_count": null,
      "outputs": []
    },
    {
      "cell_type": "code",
      "source": [
        "solve((x1_init-A, x2_init, xdot1_init, xdot2_init), (delta1, delta2))"
      ],
      "metadata": {
        "colab": {
          "base_uri": "https://localhost:8080/"
        },
        "id": "gzvmG5xCBsSK",
        "outputId": "930b9a28-50b9-4a06-d834-017a50875157"
      },
      "execution_count": null,
      "outputs": [
        {
          "output_type": "execute_result",
          "data": {
            "text/plain": [
              "[]"
            ]
          },
          "metadata": {},
          "execution_count": 15
        }
      ]
    },
    {
      "cell_type": "code",
      "source": [
        "buc.notebook_to_pdf(repo, author=\"Cameron Brewer\", title=\"11.10\")"
      ],
      "metadata": {
        "id": "h-n9OBKJ4dXW",
        "colab": {
          "base_uri": "https://localhost:8080/",
          "height": 171
        },
        "outputId": "59c6a70b-16b5-4cdd-d5e7-5c280344981d"
      },
      "execution_count": 24,
      "outputs": [
        {
          "output_type": "error",
          "ename": "NameError",
          "evalue": "ignored",
          "traceback": [
            "\u001b[0;31m---------------------------------------------------------------------------\u001b[0m",
            "\u001b[0;31mNameError\u001b[0m                                 Traceback (most recent call last)",
            "\u001b[0;32m<ipython-input-24-9ad40b5fa189>\u001b[0m in \u001b[0;36m<module>\u001b[0;34m()\u001b[0m\n\u001b[0;32m----> 1\u001b[0;31m \u001b[0mbuc\u001b[0m\u001b[0;34m.\u001b[0m\u001b[0mnotebook_to_pdf\u001b[0m\u001b[0;34m(\u001b[0m\u001b[0mrepo\u001b[0m\u001b[0;34m,\u001b[0m \u001b[0mauthor\u001b[0m\u001b[0;34m=\u001b[0m\u001b[0;34m\"Cameron Brewer\"\u001b[0m\u001b[0;34m,\u001b[0m \u001b[0mtitle\u001b[0m\u001b[0;34m=\u001b[0m\u001b[0;34m\"11.10\"\u001b[0m\u001b[0;34m)\u001b[0m\u001b[0;34m\u001b[0m\u001b[0;34m\u001b[0m\u001b[0m\n\u001b[0m",
            "\u001b[0;31mNameError\u001b[0m: name 'repo' is not defined"
          ]
        }
      ]
    }
  ]
}