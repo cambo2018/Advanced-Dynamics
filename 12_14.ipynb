{
  "nbformat": 4,
  "nbformat_minor": 0,
  "metadata": {
    "colab": {
      "name": "12_14.ipynb",
      "provenance": [],
      "collapsed_sections": [],
      "authorship_tag": "ABX9TyMY+gpXb3DzxeaBMCC8JOMm",
      "include_colab_link": true
    },
    "kernelspec": {
      "name": "python3",
      "display_name": "Python 3"
    },
    "language_info": {
      "name": "python"
    }
  },
  "cells": [
    {
      "cell_type": "markdown",
      "metadata": {
        "id": "view-in-github",
        "colab_type": "text"
      },
      "source": [
        "<a href=\"https://colab.research.google.com/github/cambo2018/Advanced-Dynamics/blob/main/12_14.ipynb\" target=\"_parent\"><img src=\"https://colab.research.google.com/assets/colab-badge.svg\" alt=\"Open In Colab\"/></a>"
      ]
    },
    {
      "cell_type": "code",
      "execution_count": 1,
      "metadata": {
        "colab": {
          "base_uri": "https://localhost:8080/"
        },
        "id": "nJXBvTxFiWix",
        "outputId": "62f7ed3c-9640-4566-ab2e-eb686036b9ef"
      },
      "outputs": [
        {
          "output_type": "stream",
          "name": "stdout",
          "text": [
            "Collecting whit-phys-util\n",
            "  Downloading whit_phys_util-0.2.7-py3-none-any.whl (11 kB)\n",
            "Collecting pydantic>=1.7.3\n",
            "  Downloading pydantic-1.9.0-cp37-cp37m-manylinux_2_17_x86_64.manylinux2014_x86_64.whl (10.9 MB)\n",
            "\u001b[K     |████████████████████████████████| 10.9 MB 2.6 MB/s \n",
            "\u001b[?25hCollecting python-dotenv>=0.10.4\n",
            "  Downloading python_dotenv-0.19.2-py2.py3-none-any.whl (17 kB)\n",
            "Requirement already satisfied: typing-extensions>=3.7.4.3 in /usr/local/lib/python3.7/dist-packages (from pydantic>=1.7.3->whit-phys-util) (3.10.0.2)\n",
            "Installing collected packages: python-dotenv, pydantic, whit-phys-util\n",
            "Successfully installed pydantic-1.9.0 python-dotenv-0.19.2 whit-phys-util-0.2.7\n"
          ]
        }
      ],
      "source": [
        "!pip install whit-phys-util"
      ]
    },
    {
      "cell_type": "code",
      "source": [
        "import whit_phys_util as buc\n",
        "from scipy.integrate import solve_ivp\n",
        "import numpy as np\n",
        "from numpy import cos, sin\n",
        "import matplotlib.pyplot as plt"
      ],
      "metadata": {
        "id": "BmbnnewoilAI"
      },
      "execution_count": 9,
      "outputs": []
    },
    {
      "cell_type": "code",
      "source": [
        "repo = buc.local_repository(\"https://github.com/cambo2018/Advanced-Dynamics\")"
      ],
      "metadata": {
        "colab": {
          "base_uri": "https://localhost:8080/"
        },
        "id": "uepWInh2ilnK",
        "outputId": "064269cc-0376-452f-f56b-adaaadc2aaa1"
      },
      "execution_count": 3,
      "outputs": [
        {
          "output_type": "stream",
          "name": "stdout",
          "text": [
            "Cloning repository from GitHub.\n"
          ]
        }
      ]
    },
    {
      "cell_type": "code",
      "source": [
        "gamma = 1.084\n",
        "w = 2*np.pi\n",
        "w0 = 1.5*w\n",
        "beta = w0/4"
      ],
      "metadata": {
        "id": "nM19hnfIwiX6"
      },
      "execution_count": 30,
      "outputs": []
    },
    {
      "cell_type": "code",
      "source": [
        "def solver(t, u):\n",
        "  [phi, phidot] = u\n",
        "  function = [u[1], gamma*w0**2*cos(w*t) - 2*beta*phidot - w0**2*sin(phi)]\n",
        "  return function"
      ],
      "metadata": {
        "id": "oFRm4ZQI4dsw"
      },
      "execution_count": 31,
      "outputs": []
    },
    {
      "cell_type": "code",
      "source": [
        "time = [0,7]\n",
        "tspan = np.linspace(0,7,2837)\n",
        "\n",
        "y1 = [0, 0]\n",
        "solution1 = solve_ivp(solver, time, y1, t_eval=tspan, rtol=1e-12)\n",
        "\n",
        "y2 = [0.00001, 0]\n",
        "solution2 = solve_ivp(solver, time, y2, t_eval=tspan, rtol=1e-12)\n",
        "\n",
        "ds_y = solution2.y[0] - solution1.y[0]"
      ],
      "metadata": {
        "id": "djKTztrvIqF7"
      },
      "execution_count": 41,
      "outputs": []
    },
    {
      "cell_type": "code",
      "source": [
        "fig, ax = plt.subplots(2, figsize=(5,7))\n",
        "\n",
        "ax[0].plot(solution1.t, solution1.y[0], label='phi(0) = 0')\n",
        "ax[0].plot(solution2.t, solution2.y[0], label='phi(0) = 0.0001')\n",
        "\n",
        "ax[1].plot(tspan, np.log10(abs(ds_y)), label='$\\Delta\\phi$')\n",
        "\n",
        "ax[0].set_ylabel('Angle (rad)')\n",
        "ax[1].set_xlabel('Time (s)')\n",
        "ax[1].set_ylabel('Angle (rad)')\n",
        "\n",
        "ax[0].legend()\n",
        "ax[1].legend();"
      ],
      "metadata": {
        "id": "u8d0hG_iI_OF",
        "colab": {
          "base_uri": "https://localhost:8080/",
          "height": 442
        },
        "outputId": "08ecfa3e-a49b-4cad-cefd-2c3b2330918e"
      },
      "execution_count": 50,
      "outputs": [
        {
          "output_type": "display_data",
          "data": {
            "text/plain": [
              "<Figure size 360x504 with 2 Axes>"
            ],
            "image/png": "[encoded data removed]"
          },
          "metadata": {
            "needs_background": "light"
          }
        }
      ]
    },
    {
      "cell_type": "markdown",
      "source": [
        "This plot confirms that the motion is chaotic because the difference between the two starts small, but grows exponentially over time.  It doesn't stay near."
      ],
      "metadata": {
        "id": "jf55xu647fGM"
      }
    },
    {
      "cell_type": "code",
      "source": [
        "buc.notebook_to_pdf(repo, author=\"Cameron Brewer\", title=\"12.14\")"
      ],
      "metadata": {
        "colab": {
          "base_uri": "https://localhost:8080/",
          "height": 252
        },
        "id": "tDg_8pjTTb8J",
        "outputId": "74f9b11e-ad79-44e9-8807-7e66e706b24c"
      },
      "execution_count": null,
      "outputs": [
        {
          "output_type": "stream",
          "name": "stdout",
          "text": [
            "Installing required packages. This often takes 1-2 minutes.\n",
            "Preparing to convert '12_6.ipynb'\n",
            "jupyter nbconvert --output-dir='/tmp' '/tmp/12_6.ipynb' --to pdf\n",
            "[NbConvertApp] Converting notebook /tmp/12_6.ipynb to pdf\n",
            "[NbConvertApp] Support files will be in 12_6_files/\n",
            "[NbConvertApp] Making directory ./12_6_files\n",
            "[NbConvertApp] Writing 27330 bytes to ./notebook.tex\n",
            "[NbConvertApp] Building PDF\n",
            "[NbConvertApp] Running xelatex 3 times: ['xelatex', './notebook.tex', '-quiet']\n",
            "[NbConvertApp] Running bibtex 1 time: ['bibtex', './notebook']\n",
            "[NbConvertApp] WARNING | bibtex had problems, most likely because there were no citations\n",
            "[NbConvertApp] PDF successfully created\n",
            "[NbConvertApp] Writing 52080 bytes to /tmp/12_6.pdf\n"
          ]
        },
        {
          "output_type": "display_data",
          "data": {
            "text/plain": [
              "<IPython.core.display.Javascript object>"
            ],
            "application/javascript": [
              "\n",
              "    async function download(id, filename, size) {\n",
              "      if (!google.colab.kernel.accessAllowed) {\n",
              "        return;\n",
              "      }\n",
              "      const div = document.createElement('div');\n",
              "      const label = document.createElement('label');\n",
              "      label.textContent = `Downloading \"${filename}\": `;\n",
              "      div.appendChild(label);\n",
              "      const progress = document.createElement('progress');\n",
              "      progress.max = size;\n",
              "      div.appendChild(progress);\n",
              "      document.body.appendChild(div);\n",
              "\n",
              "      const buffers = [];\n",
              "      let downloaded = 0;\n",
              "\n",
              "      const channel = await google.colab.kernel.comms.open(id);\n",
              "      // Send a message to notify the kernel that we're ready.\n",
              "      channel.send({})\n",
              "\n",
              "      for await (const message of channel.messages) {\n",
              "        // Send a message to notify the kernel that we're ready.\n",
              "        channel.send({})\n",
              "        if (message.buffers) {\n",
              "          for (const buffer of message.buffers) {\n",
              "            buffers.push(buffer);\n",
              "            downloaded += buffer.byteLength;\n",
              "            progress.value = downloaded;\n",
              "          }\n",
              "        }\n",
              "      }\n",
              "      const blob = new Blob(buffers, {type: 'application/binary'});\n",
              "      const a = document.createElement('a');\n",
              "      a.href = window.URL.createObjectURL(blob);\n",
              "      a.download = filename;\n",
              "      div.appendChild(a);\n",
              "      a.click();\n",
              "      div.remove();\n",
              "    }\n",
              "  "
            ]
          },
          "metadata": {}
        },
        {
          "output_type": "display_data",
          "data": {
            "text/plain": [
              "<IPython.core.display.Javascript object>"
            ],
            "application/javascript": [
              "download(\"download_e5f545ff-4898-4a7c-b893-4cbc3480aeb6\", \"12_6.pdf\", 52080)"
            ]
          },
          "metadata": {}
        }
      ]
    }
  ]
}