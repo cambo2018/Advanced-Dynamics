{
  "nbformat": 4,
  "nbformat_minor": 0,
  "metadata": {
    "colab": {
      "name": "12_24.ipynb",
      "provenance": [],
      "authorship_tag": "ABX9TyNXvlHHpit4ZTu3rr8Va2on",
      "include_colab_link": true
    },
    "kernelspec": {
      "name": "python3",
      "display_name": "Python 3"
    },
    "language_info": {
      "name": "python"
    }
  },
  "cells": [
    {
      "cell_type": "markdown",
      "metadata": {
        "id": "view-in-github",
        "colab_type": "text"
      },
      "source": [
        "<a href=\"https://colab.research.google.com/github/cambo2018/Advanced-Dynamics/blob/main/12_24.ipynb\" target=\"_parent\"><img src=\"https://colab.research.google.com/assets/colab-badge.svg\" alt=\"Open In Colab\"/></a>"
      ]
    },
    {
      "cell_type": "code",
      "execution_count": 1,
      "metadata": {
        "id": "JS6gxPHya4S4"
      },
      "outputs": [],
      "source": [
        "!pip install whit-phys-util 1> /dev/null"
      ]
    },
    {
      "cell_type": "code",
      "source": [
        "import whit_phys_util as buc\n",
        "import numpy as np\n",
        "import matplotlib.pyplot as plt"
      ],
      "metadata": {
        "id": "XAttNEoRbHug",
        "colab": {
          "base_uri": "https://localhost:8080/"
        },
        "outputId": "76653efb-ce7d-4d17-e555-2d1f2cc3978a"
      },
      "execution_count": 2,
      "outputs": [
        {
          "output_type": "stream",
          "name": "stdout",
          "text": [
            "Mounted at /content/drive\n"
          ]
        }
      ]
    },
    {
      "cell_type": "code",
      "source": [
        "repo = buc.local_repository(\"https://github.com/cambo2018/Advanced-Dynamics\")"
      ],
      "metadata": {
        "colab": {
          "base_uri": "https://localhost:8080/"
        },
        "id": "xHjKsl-VbIQT",
        "outputId": "3d0a9e9c-6fc3-4f7b-e424-fbce459f1f21"
      },
      "execution_count": 3,
      "outputs": [
        {
          "output_type": "stream",
          "name": "stdout",
          "text": [
            "Cloning repository from GitHub.\n"
          ]
        }
      ]
    },
    {
      "cell_type": "code",
      "source": [
        "def f(r,x):\n",
        "  f = r*np.sin(np.pi*x)\n",
        "  return f"
      ],
      "metadata": {
        "id": "lc_Va8dbbKTk"
      },
      "execution_count": 4,
      "outputs": []
    },
    {
      "cell_type": "code",
      "source": [
        "t = np.linspace(1,20,100)\n",
        "\n",
        "x0 = .3\n",
        "\n",
        "r1 = .1\n",
        "r2 = .5\n",
        "r3 = .78"
      ],
      "metadata": {
        "id": "bq3t5CU_bKVv"
      },
      "execution_count": 16,
      "outputs": []
    },
    {
      "cell_type": "code",
      "source": [
        "def xt(r,x):\n",
        "  xt = [x0]\n",
        "  for i in range(len(t)-1):\n",
        "    temp = f(r,xt[i])\n",
        "    xt.append(temp)\n",
        "  return xt"
      ],
      "metadata": {
        "id": "OZhQXowyKR08"
      },
      "execution_count": 18,
      "outputs": []
    },
    {
      "cell_type": "code",
      "source": [
        "xt1 = xt(r1,x0)\n",
        "xt2 = xt(r2,x0)\n",
        "xt3 = xt(r3,x0)"
      ],
      "metadata": {
        "id": "0rsiNU4-KUJI"
      },
      "execution_count": 19,
      "outputs": []
    },
    {
      "cell_type": "code",
      "source": [
        "fig1, ax1 = plt.subplots()\n",
        "\n",
        "ax1.plot(t,xt1, '.', label='r=.1')\n",
        "\n",
        "ax1.set_xlabel('$t$')\n",
        "ax1.set_ylabel('$x_t$')\n",
        "\n",
        "ax1.legend();"
      ],
      "metadata": {
        "colab": {
          "base_uri": "https://localhost:8080/",
          "height": 281
        },
        "id": "WhTIac-MsnL5",
        "outputId": "7c76201a-ecfd-49c0-95dc-025d1616abe1"
      },
      "execution_count": 20,
      "outputs": [
        {
          "output_type": "display_data",
          "data": {
            "text/plain": [
              "<Figure size 432x288 with 1 Axes>"
            ],
            "image/png": "[encoded data removed]"
          },
          "metadata": {
            "needs_background": "light"
          }
        }
      ]
    },
    {
      "cell_type": "markdown",
      "source": [
        "With an r-value of .1, the long term attractor was at $x_t = 0$.  This makes sense because $.1 < \\frac{1}{\\pi}$, which is $r_0$"
      ],
      "metadata": {
        "id": "6WuG340M5GkS"
      }
    },
    {
      "cell_type": "code",
      "source": [
        "fig2, ax2 = plt.subplots()\n",
        "\n",
        "ax2.plot(t,xt2, '.', label='r=.5')\n",
        "\n",
        "ax1.set_xlabel('$t$')\n",
        "ax1.set_ylabel('$x_t$')\n",
        "\n",
        "ax1.legend();"
      ],
      "metadata": {
        "colab": {
          "base_uri": "https://localhost:8080/",
          "height": 265
        },
        "id": "Z3B_7IdpwT-F",
        "outputId": "3f646071-104d-4fc7-b0d0-1d2a5af11085"
      },
      "execution_count": 21,
      "outputs": [
        {
          "output_type": "display_data",
          "data": {
            "text/plain": [
              "<Figure size 432x288 with 1 Axes>"
            ],
            "image/png": "[encoded data removed]"
          },
          "metadata": {
            "needs_background": "light"
          }
        }
      ]
    },
    {
      "cell_type": "markdown",
      "source": [
        "With an r-value of .5, the long term attractor was at $x_t \\approx .5$. It is no longer at $x_t = 0$ because $.5 > \\frac{1}{\\pi}$"
      ],
      "metadata": {
        "id": "461n2UJWMsWZ"
      }
    },
    {
      "cell_type": "code",
      "source": [
        "fig3, ax3 = plt.subplots()\n",
        "\n",
        "ax3.plot(t,xt3, '.', label='r=.78')\n",
        "\n",
        "ax3.set_xlabel('$t$')\n",
        "ax3.set_ylabel('$x_t$')\n",
        "\n",
        "ax3.legend();"
      ],
      "metadata": {
        "colab": {
          "base_uri": "https://localhost:8080/",
          "height": 284
        },
        "id": "KEHP_cUsxi3H",
        "outputId": "83732c7d-5b34-497a-a90f-2a8eea69b9f9"
      },
      "execution_count": 22,
      "outputs": [
        {
          "output_type": "display_data",
          "data": {
            "text/plain": [
              "<Figure size 432x288 with 1 Axes>"
            ],
            "image/png": "[encoded data removed]"
          },
          "metadata": {
            "needs_background": "light"
          }
        }
      ]
    },
    {
      "cell_type": "markdown",
      "source": [
        "With an r-value of .78, there are two long term attractors because there is a bifurcation at $r_1$ and $.78 > r_1$"
      ],
      "metadata": {
        "id": "-5CxuddUNt39"
      }
    },
    {
      "cell_type": "code",
      "source": [
        "buc.notebook_to_pdf(repo, author=\"Cameron Brewer\", title=\"12.24\")"
      ],
      "metadata": {
        "colab": {
          "base_uri": "https://localhost:8080/",
          "height": 289
        },
        "id": "YEEGE-peGOjV",
        "outputId": "ef71a19a-49ac-463c-bc69-e85dcc3c3310"
      },
      "execution_count": 23,
      "outputs": [
        {
          "output_type": "stream",
          "name": "stdout",
          "text": [
            "Installing required packages. This often takes 1-2 minutes.\n",
            "Preparing to convert '12_24.ipynb'\n",
            "jupyter nbconvert --output-dir='/tmp' '/tmp/12_24.ipynb' --to pdf\n",
            "[NbConvertApp] Converting notebook /tmp/12_24.ipynb to pdf\n",
            "[NbConvertApp] Support files will be in 12_24_files/\n",
            "[NbConvertApp] Making directory ./12_24_files\n",
            "[NbConvertApp] Making directory ./12_24_files\n",
            "[NbConvertApp] Making directory ./12_24_files\n",
            "[NbConvertApp] Writing 28248 bytes to ./notebook.tex\n",
            "[NbConvertApp] Building PDF\n",
            "[NbConvertApp] Running xelatex 3 times: ['xelatex', './notebook.tex', '-quiet']\n",
            "[NbConvertApp] Running bibtex 1 time: ['bibtex', './notebook']\n",
            "[NbConvertApp] WARNING | bibtex had problems, most likely because there were no citations\n",
            "[NbConvertApp] PDF successfully created\n",
            "[NbConvertApp] Writing 45929 bytes to /tmp/12_24.pdf\n"
          ]
        },
        {
          "output_type": "display_data",
          "data": {
            "text/plain": [
              "<IPython.core.display.Javascript object>"
            ],
            "application/javascript": [
              "\n",
              "    async function download(id, filename, size) {\n",
              "      if (!google.colab.kernel.accessAllowed) {\n",
              "        return;\n",
              "      }\n",
              "      const div = document.createElement('div');\n",
              "      const label = document.createElement('label');\n",
              "      label.textContent = `Downloading \"${filename}\": `;\n",
              "      div.appendChild(label);\n",
              "      const progress = document.createElement('progress');\n",
              "      progress.max = size;\n",
              "      div.appendChild(progress);\n",
              "      document.body.appendChild(div);\n",
              "\n",
              "      const buffers = [];\n",
              "      let downloaded = 0;\n",
              "\n",
              "      const channel = await google.colab.kernel.comms.open(id);\n",
              "      // Send a message to notify the kernel that we're ready.\n",
              "      channel.send({})\n",
              "\n",
              "      for await (const message of channel.messages) {\n",
              "        // Send a message to notify the kernel that we're ready.\n",
              "        channel.send({})\n",
              "        if (message.buffers) {\n",
              "          for (const buffer of message.buffers) {\n",
              "            buffers.push(buffer);\n",
              "            downloaded += buffer.byteLength;\n",
              "            progress.value = downloaded;\n",
              "          }\n",
              "        }\n",
              "      }\n",
              "      const blob = new Blob(buffers, {type: 'application/binary'});\n",
              "      const a = document.createElement('a');\n",
              "      a.href = window.URL.createObjectURL(blob);\n",
              "      a.download = filename;\n",
              "      div.appendChild(a);\n",
              "      a.click();\n",
              "      div.remove();\n",
              "    }\n",
              "  "
            ]
          },
          "metadata": {}
        },
        {
          "output_type": "display_data",
          "data": {
            "text/plain": [
              "<IPython.core.display.Javascript object>"
            ],
            "application/javascript": [
              "download(\"download_c0f0a251-8f9a-46e3-a3f1-13242349f259\", \"12_24.pdf\", 45929)"
            ]
          },
          "metadata": {}
        }
      ]
    }
  ]
}