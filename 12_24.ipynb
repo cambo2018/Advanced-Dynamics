{
  "nbformat": 4,
  "nbformat_minor": 0,
  "metadata": {
    "colab": {
      "name": "12_24.ipynb",
      "provenance": [],
      "authorship_tag": "ABX9TyP6bH3XIQxJINYvW1eQtJGa",
      "include_colab_link": true
    },
    "kernelspec": {
      "name": "python3",
      "display_name": "Python 3"
    },
    "language_info": {
      "name": "python"
    }
  },
  "cells": [
    {
      "cell_type": "markdown",
      "metadata": {
        "id": "view-in-github",
        "colab_type": "text"
      },
      "source": [
        "<a href=\"https://colab.research.google.com/github/cambo2018/Advanced-Dynamics/blob/main/12_24.ipynb\" target=\"_parent\"><img src=\"https://colab.research.google.com/assets/colab-badge.svg\" alt=\"Open In Colab\"/></a>"
      ]
    },
    {
      "cell_type": "code",
      "execution_count": 52,
      "metadata": {
        "id": "JS6gxPHya4S4"
      },
      "outputs": [],
      "source": [
        "!pip install whit-phys-util 1> /dev/null"
      ]
    },
    {
      "cell_type": "code",
      "source": [
        "import whit_phys_util as buc\n",
        "import numpy as np\n",
        "import matplotlib.pyplot as plt"
      ],
      "metadata": {
        "id": "XAttNEoRbHug"
      },
      "execution_count": 53,
      "outputs": []
    },
    {
      "cell_type": "code",
      "source": [
        "repo = buc.local_repository(\"https://github.com/cambo2018/Advanced-Dynamics\")"
      ],
      "metadata": {
        "colab": {
          "base_uri": "https://localhost:8080/"
        },
        "id": "xHjKsl-VbIQT",
        "outputId": "fafd6544-73c3-4108-f056-5fbfa67e7811"
      },
      "execution_count": null,
      "outputs": [
        {
          "output_type": "stream",
          "name": "stdout",
          "text": [
            "Repository exists at this location. Pulling changes from GitHub.\n"
          ]
        }
      ]
    },
    {
      "cell_type": "code",
      "source": [
        "def f(r,x):\n",
        "  f = r*np.sin(np.pi*x)\n",
        "  return f"
      ],
      "metadata": {
        "id": "lc_Va8dbbKTk"
      },
      "execution_count": null,
      "outputs": []
    },
    {
      "cell_type": "code",
      "source": [
        "t = [1,2,3,4,5,6,7,8,9,10]\n",
        "\n",
        "x0 = .3\n",
        "\n",
        "r1 = .1\n",
        "r2 = .5\n",
        "r3 = .78"
      ],
      "metadata": {
        "id": "bq3t5CU_bKVv"
      },
      "execution_count": null,
      "outputs": []
    },
    {
      "cell_type": "code",
      "source": [
        "t"
      ],
      "metadata": {
        "colab": {
          "base_uri": "https://localhost:8080/"
        },
        "id": "-wJwxfF73Rpr",
        "outputId": "2f61cdd2-790d-4a5a-e6ea-55688fe1ff3e"
      },
      "execution_count": null,
      "outputs": [
        {
          "output_type": "execute_result",
          "data": {
            "text/plain": [
              "[1, 2, 3, 4, 5, 6, 7, 8, 9, 10]"
            ]
          },
          "metadata": {},
          "execution_count": 42
        }
      ]
    },
    {
      "cell_type": "code",
      "source": [
        "x1 = x0\n",
        "x2 = x0\n",
        "x3 = x0\n",
        "xt1 = []\n",
        "xt2 = []\n",
        "xt3 = []\n",
        "\n",
        "for i in range(len(t)):\n",
        "  x1 = f(r1,x1)\n",
        "  x2 = f(r2,x2)\n",
        "  x3 = f(r3,x3)\n",
        "  xt1.append(x1)\n",
        "  xt2.append(x2)\n",
        "  xt3.append(x3)"
      ],
      "metadata": {
        "id": "Kj9GqsvfnLDN"
      },
      "execution_count": null,
      "outputs": []
    },
    {
      "cell_type": "code",
      "source": [
        "fig1, ax1 = plt.subplots()\n",
        "\n",
        "ax1.plot(t,xt1, label='r=.1')\n",
        "\n",
        "ax1.set_xlabel('$t$')\n",
        "ax1.set_ylabel('$x_t$')\n",
        "\n",
        "ax1.legend();"
      ],
      "metadata": {
        "colab": {
          "base_uri": "https://localhost:8080/",
          "height": 281
        },
        "id": "WhTIac-MsnL5",
        "outputId": "57985312-951e-4496-efbb-13ecc59e09b3"
      },
      "execution_count": null,
      "outputs": [
        {
          "output_type": "display_data",
          "data": {
            "text/plain": [
              "<Figure size 432x288 with 1 Axes>"
            ],
            "image/png": "[encoded data removed]"
          },
          "metadata": {
            "needs_background": "light"
          }
        }
      ]
    },
    {
      "cell_type": "markdown",
      "source": [
        "With an r-value of .1, the long term attractor was at $x_t = 0$.  This makes sense because $.1 < \\frac{1}{\\pi}$"
      ],
      "metadata": {
        "id": "6WuG340M5GkS"
      }
    },
    {
      "cell_type": "code",
      "source": [
        "fig2, ax2 = plt.subplots()\n",
        "\n",
        "ax2.plot(t,xt2, label='r=.5')\n",
        "\n",
        "ax1.set_xlabel('$t$')\n",
        "ax1.set_ylabel('$x_t$')\n",
        "\n",
        "ax1.legend();"
      ],
      "metadata": {
        "colab": {
          "base_uri": "https://localhost:8080/",
          "height": 265
        },
        "id": "Z3B_7IdpwT-F",
        "outputId": "fe530f20-a7a9-41a0-f78d-d67741a07533"
      },
      "execution_count": null,
      "outputs": [
        {
          "output_type": "display_data",
          "data": {
            "text/plain": [
              "<Figure size 432x288 with 1 Axes>"
            ],
            "image/png": "[encoded data removed]"
          },
          "metadata": {
            "needs_background": "light"
          }
        }
      ]
    },
    {
      "cell_type": "code",
      "source": [
        "fig3, ax3 = plt.subplots()\n",
        "\n",
        "ax3.plot(t,xt3, label='r=.78')\n",
        "\n",
        "ax3.set_xlabel('$t$')\n",
        "ax3.set_ylabel('$x_t$')\n",
        "\n",
        "ax3.legend();"
      ],
      "metadata": {
        "colab": {
          "base_uri": "https://localhost:8080/",
          "height": 281
        },
        "id": "KEHP_cUsxi3H",
        "outputId": "e6b2d8ce-cd15-4a91-f5df-53dd910c9ef3"
      },
      "execution_count": null,
      "outputs": [
        {
          "output_type": "display_data",
          "data": {
            "text/plain": [
              "<Figure size 432x288 with 1 Axes>"
            ],
            "image/png": "[encoded data removed]"
          },
          "metadata": {
            "needs_background": "light"
          }
        }
      ]
    },
    {
      "cell_type": "code",
      "source": [
        "  "
      ],
      "metadata": {
        "id": "LeQq2-Z2x7mc"
      },
      "execution_count": null,
      "outputs": []
    }
  ]
}