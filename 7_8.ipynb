{
  "nbformat": 4,
  "nbformat_minor": 0,
  "metadata": {
    "colab": {
      "name": "7_8.ipynb",
      "provenance": [],
      "collapsed_sections": [],
      "authorship_tag": "ABX9TyMy0mgfzzz1wAvDoEJPRY3S",
      "include_colab_link": true
    },
    "kernelspec": {
      "name": "python3",
      "display_name": "Python 3"
    },
    "language_info": {
      "name": "python"
    }
  },
  "cells": [
    {
      "cell_type": "markdown",
      "metadata": {
        "id": "view-in-github",
        "colab_type": "text"
      },
      "source": [
        "<a href=\"https://colab.research.google.com/github/cambo2018/Advanced-Dynamics/blob/main/7_8.ipynb\" target=\"_parent\"><img src=\"https://colab.research.google.com/assets/colab-badge.svg\" alt=\"Open In Colab\"/></a>"
      ]
    },
    {
      "cell_type": "code",
      "execution_count": 1,
      "metadata": {
        "colab": {
          "base_uri": "https://localhost:8080/"
        },
        "id": "iQQm0z2_mH9p",
        "outputId": "4985b60a-1e81-4f9b-94d9-8d9a248cef4c"
      },
      "outputs": [
        {
          "output_type": "stream",
          "name": "stdout",
          "text": [
            "Collecting whit-phys-util\n",
            "  Downloading whit_phys_util-0.2.7-py3-none-any.whl (11 kB)\n",
            "Collecting python-dotenv>=0.10.4\n",
            "  Downloading python_dotenv-0.19.2-py2.py3-none-any.whl (17 kB)\n",
            "Collecting pydantic>=1.7.3\n",
            "  Downloading pydantic-1.9.0-cp37-cp37m-manylinux_2_17_x86_64.manylinux2014_x86_64.whl (10.9 MB)\n",
            "\u001b[K     |████████████████████████████████| 10.9 MB 5.6 MB/s \n",
            "\u001b[?25hRequirement already satisfied: typing-extensions>=3.7.4.3 in /usr/local/lib/python3.7/dist-packages (from pydantic>=1.7.3->whit-phys-util) (3.10.0.2)\n",
            "Installing collected packages: python-dotenv, pydantic, whit-phys-util\n",
            "Successfully installed pydantic-1.9.0 python-dotenv-0.19.2 whit-phys-util-0.2.7\n"
          ]
        }
      ],
      "source": [
        "!pip install whit-phys-util"
      ]
    },
    {
      "cell_type": "code",
      "source": [
        "import whit_phys_util as buc\n",
        "from sympy import *"
      ],
      "metadata": {
        "colab": {
          "base_uri": "https://localhost:8080/"
        },
        "id": "Qq6zmTeYmVGw",
        "outputId": "07a35a73-3f78-4b0c-ec2a-4102a937234b"
      },
      "execution_count": 2,
      "outputs": [
        {
          "output_type": "stream",
          "name": "stdout",
          "text": [
            "Mounted at /content/drive\n"
          ]
        }
      ]
    },
    {
      "cell_type": "code",
      "source": [
        "repo = buc.local_repository(\"https://github.com/cambo2018/Advanced-Dynamics\")"
      ],
      "metadata": {
        "colab": {
          "base_uri": "https://localhost:8080/"
        },
        "id": "vPkXwgo0mVER",
        "outputId": "4e94abc4-ce88-407e-9c9a-a93fbc343368"
      },
      "execution_count": 3,
      "outputs": [
        {
          "output_type": "stream",
          "name": "stdout",
          "text": [
            "Cloning repository from GitHub.\n"
          ]
        }
      ]
    },
    {
      "cell_type": "markdown",
      "source": [
        "# a."
      ],
      "metadata": {
        "id": "kOeYuluWng7Z"
      }
    },
    {
      "cell_type": "code",
      "source": [
        "var('k x x1 x2 xdot1 xdot2 l m')\n",
        "x = x1-x2-l # extension of spring"
      ],
      "metadata": {
        "id": "DvD8EG26oMUV"
      },
      "execution_count": 4,
      "outputs": []
    },
    {
      "cell_type": "code",
      "source": [
        "U = 1/2*k*x**2\n",
        "\n",
        "T1 = 1/2*m*xdot1**2\n",
        "T2 = 1/2*m*xdot2**2\n",
        "T = T1 + T2\n",
        "\n",
        "L = T - U\n",
        "L.simplify()"
      ],
      "metadata": {
        "colab": {
          "base_uri": "https://localhost:8080/",
          "height": 39
        },
        "id": "-HTi38_smVAe",
        "outputId": "215dd406-d39b-4304-f381-cb96804751ff"
      },
      "execution_count": 5,
      "outputs": [
        {
          "output_type": "execute_result",
          "data": {
            "text/latex": "$\\displaystyle - 0.5 k \\left(l - x_{1} + x_{2}\\right)^{2} + 0.5 m \\dot{x}_{1}^{2} + 0.5 m \\dot{x}_{2}^{2}$",
            "text/plain": [
              "-0.5*k*(l - x1 + x2)**2 + 0.5*m*xdot1**2 + 0.5*m*xdot2**2"
            ]
          },
          "metadata": {},
          "execution_count": 5
        }
      ]
    },
    {
      "cell_type": "markdown",
      "source": [
        "# b."
      ],
      "metadata": {
        "id": "Aq98btXknlRC"
      }
    },
    {
      "cell_type": "code",
      "source": [
        "X = 1/2*(x1 + x2) # CM position"
      ],
      "metadata": {
        "id": "AVwXber7obgL"
      },
      "execution_count": 6,
      "outputs": []
    },
    {
      "cell_type": "code",
      "source": [
        "xsquared = x**2\n",
        "xsquared.expand()"
      ],
      "metadata": {
        "colab": {
          "base_uri": "https://localhost:8080/",
          "height": 38
        },
        "id": "wRpUj04kyu5_",
        "outputId": "c6cd325b-e925-4d60-93fb-0fec2062c003"
      },
      "execution_count": 7,
      "outputs": [
        {
          "output_type": "execute_result",
          "data": {
            "text/latex": "$\\displaystyle l^{2} - 2 l x_{1} + 2 l x_{2} + x_{1}^{2} - 2 x_{1} x_{2} + x_{2}^{2}$",
            "text/plain": [
              "l**2 - 2*l*x1 + 2*l*x2 + x1**2 - 2*x1*x2 + x2**2"
            ]
          },
          "metadata": {},
          "execution_count": 7
        }
      ]
    },
    {
      "cell_type": "code",
      "source": [
        "Xsquared = X**2\n",
        "Xsquared.expand()"
      ],
      "metadata": {
        "colab": {
          "base_uri": "https://localhost:8080/",
          "height": 38
        },
        "id": "g4UI6g8tyTxG",
        "outputId": "ea1da8cc-b2a3-449c-f96c-4cafb34fe0f3"
      },
      "execution_count": 8,
      "outputs": [
        {
          "output_type": "execute_result",
          "data": {
            "text/latex": "$\\displaystyle 0.25 x_{1}^{2} + 0.5 x_{1} x_{2} + 0.25 x_{2}^{2}$",
            "text/plain": [
              "0.25*x1**2 + 0.5*x1*x2 + 0.25*x2**2"
            ]
          },
          "metadata": {},
          "execution_count": 8
        }
      ]
    },
    {
      "cell_type": "markdown",
      "source": [
        "Redifining $T$"
      ],
      "metadata": {
        "id": "Pv45nJGui40r"
      }
    },
    {
      "cell_type": "code",
      "source": [
        "Xdot = X.diff(x1)*xdot1 + X.diff(x2)*xdot2\n",
        "xdot = x.diff(x1)*xdot1 + x.diff(x2)*xdot2"
      ],
      "metadata": {
        "id": "cIu1pUNFmU3x"
      },
      "execution_count": 9,
      "outputs": []
    },
    {
      "cell_type": "code",
      "source": [
        "Xdotsquared = Xdot**2\n",
        "Xdotsquared.expand()"
      ],
      "metadata": {
        "colab": {
          "base_uri": "https://localhost:8080/",
          "height": 37
        },
        "id": "IPVUGoOjzWMf",
        "outputId": "929cfe5b-ac32-4d8b-8fab-5141a24f0137"
      },
      "execution_count": 10,
      "outputs": [
        {
          "output_type": "execute_result",
          "data": {
            "text/latex": "$\\displaystyle 0.25 \\dot{x}_{1}^{2} + 0.5 \\dot{x}_{1} \\dot{x}_{2} + 0.25 \\dot{x}_{2}^{2}$",
            "text/plain": [
              "0.25*xdot1**2 + 0.5*xdot1*xdot2 + 0.25*xdot2**2"
            ]
          },
          "metadata": {},
          "execution_count": 10
        }
      ]
    },
    {
      "cell_type": "code",
      "source": [
        "xdotsquared = xdot**2\n",
        "xdotsquared.expand()"
      ],
      "metadata": {
        "colab": {
          "base_uri": "https://localhost:8080/",
          "height": 37
        },
        "id": "ykCV3WKEzLfo",
        "outputId": "14570fd1-054d-4fa2-81fb-e279d1ba47d4"
      },
      "execution_count": 11,
      "outputs": [
        {
          "output_type": "execute_result",
          "data": {
            "text/latex": "$\\displaystyle \\dot{x}_{1}^{2} - 2 \\dot{x}_{1} \\dot{x}_{2} + \\dot{x}_{2}^{2}$",
            "text/plain": [
              "xdot1**2 - 2*xdot1*xdot2 + xdot2**2"
            ]
          },
          "metadata": {},
          "execution_count": 11
        }
      ]
    },
    {
      "cell_type": "code",
      "source": [
        "C = 4*Xdotsquared + xdotsquared\n",
        "C.expand()"
      ],
      "metadata": {
        "colab": {
          "base_uri": "https://localhost:8080/",
          "height": 37
        },
        "id": "eLum3q1xzhSD",
        "outputId": "6149b1d0-9eb8-4fd7-b369-cce1d69cbbed"
      },
      "execution_count": 12,
      "outputs": [
        {
          "output_type": "execute_result",
          "data": {
            "text/latex": "$\\displaystyle 2.0 \\dot{x}_{1}^{2} + 2.0 \\dot{x}_{2}^{2}$",
            "text/plain": [
              "2.0*xdot1**2 + 2.0*xdot2**2"
            ]
          },
          "metadata": {},
          "execution_count": 12
        }
      ]
    },
    {
      "cell_type": "code",
      "source": [
        "var('Xdot xdot x')"
      ],
      "metadata": {
        "colab": {
          "base_uri": "https://localhost:8080/"
        },
        "id": "pkwdkNeAlS46",
        "outputId": "e9b1f847-cde4-4c6e-a657-8d90b38fee4d"
      },
      "execution_count": 13,
      "outputs": [
        {
          "output_type": "execute_result",
          "data": {
            "text/plain": [
              "(Xdot, xdot, x)"
            ]
          },
          "metadata": {},
          "execution_count": 13
        }
      ]
    },
    {
      "cell_type": "code",
      "source": [
        "T = m/4*(4*Xdot**2 + xdot**2)\n",
        "T.simplify()"
      ],
      "metadata": {
        "colab": {
          "base_uri": "https://localhost:8080/",
          "height": 66
        },
        "id": "yjYKj4MLjIM-",
        "outputId": "c9907ff1-b492-430e-b22f-9da7f46295ef"
      },
      "execution_count": 14,
      "outputs": [
        {
          "output_type": "execute_result",
          "data": {
            "text/latex": "$\\displaystyle \\frac{m \\left(4 \\dot{X}^{2} + \\dot{x}^{2}\\right)}{4}$",
            "text/plain": [
              "m*(4*Xdot**2 + xdot**2)/4"
            ]
          },
          "metadata": {},
          "execution_count": 14
        }
      ]
    },
    {
      "cell_type": "markdown",
      "source": [
        "Redifining $U$"
      ],
      "metadata": {
        "id": "OheiU1OrkNXw"
      }
    },
    {
      "cell_type": "code",
      "source": [
        "U = 1/2*k*x**2\n",
        "U"
      ],
      "metadata": {
        "colab": {
          "base_uri": "https://localhost:8080/",
          "height": 38
        },
        "id": "oX0hPckZkMAR",
        "outputId": "098a2653-af58-4c6b-a1a8-ea850d5a4a20"
      },
      "execution_count": 15,
      "outputs": [
        {
          "output_type": "execute_result",
          "data": {
            "text/latex": "$\\displaystyle 0.5 k x^{2}$",
            "text/plain": [
              "0.5*k*x**2"
            ]
          },
          "metadata": {},
          "execution_count": 15
        }
      ]
    },
    {
      "cell_type": "code",
      "source": [
        "L = T - U\n",
        "L"
      ],
      "metadata": {
        "colab": {
          "base_uri": "https://localhost:8080/",
          "height": 66
        },
        "id": "RDPRrJbGlHrp",
        "outputId": "600e1410-3bdb-4cc4-a5c2-73eb0d12df25"
      },
      "execution_count": 16,
      "outputs": [
        {
          "output_type": "execute_result",
          "data": {
            "text/latex": "$\\displaystyle - 0.5 k x^{2} + \\frac{m \\left(4 \\dot{X}^{2} + \\dot{x}^{2}\\right)}{4}$",
            "text/plain": [
              "-0.5*k*x**2 + m*(4*Xdot**2 + xdot**2)/4"
            ]
          },
          "metadata": {},
          "execution_count": 16
        }
      ]
    },
    {
      "cell_type": "markdown",
      "source": [
        "# c."
      ],
      "metadata": {
        "id": "d6uy-nMMqJXE"
      }
    },
    {
      "cell_type": "markdown",
      "source": [
        "Euler-Lagrange\n",
        "\n",
        "$$ \\frac{\\partial L}{\\partial X} = \\frac{d}{dt}\\frac{\\partial L}{\\partial Xdot} $$\n",
        "\n",
        "and the same goes for $x$"
      ],
      "metadata": {
        "id": "L0yvwWhpnywe"
      }
    },
    {
      "cell_type": "markdown",
      "source": [
        "taking all necessary derivatives"
      ],
      "metadata": {
        "id": "sQ0VsDw2pKPJ"
      }
    },
    {
      "cell_type": "code",
      "source": [
        "var('X x Xddot xddot')"
      ],
      "metadata": {
        "colab": {
          "base_uri": "https://localhost:8080/"
        },
        "id": "HgowP2ngpyUb",
        "outputId": "cb1fa274-a0b0-41c3-c15f-903528f85c2a"
      },
      "execution_count": 40,
      "outputs": [
        {
          "output_type": "execute_result",
          "data": {
            "text/plain": [
              "(X, x, Xddot, xddot)"
            ]
          },
          "metadata": {},
          "execution_count": 40
        }
      ]
    },
    {
      "cell_type": "code",
      "source": [
        "dLdX = L.diff(X)\n",
        "dLdx = L.diff(x)\n",
        "dLdXdot = L.diff(Xdot)\n",
        "dLdxdot = L.diff(xdot)"
      ],
      "metadata": {
        "id": "KmPl_lyOqK5X",
        "colab": {
          "base_uri": "https://localhost:8080/"
        },
        "outputId": "e1889569-b75a-4984-dbd5-71bc0f6a881f"
      },
      "execution_count": 24,
      "outputs": [
        {
          "output_type": "stream",
          "name": "stdout",
          "text": [
            "-1.0*k*x\n"
          ]
        }
      ]
    },
    {
      "cell_type": "code",
      "source": [
        "dLdX"
      ],
      "metadata": {
        "id": "jO-GMszaqK3M",
        "colab": {
          "base_uri": "https://localhost:8080/",
          "height": 37
        },
        "outputId": "b7f15b2e-4ec2-47d6-ee0f-ce46863eec7c"
      },
      "execution_count": 25,
      "outputs": [
        {
          "output_type": "execute_result",
          "data": {
            "text/latex": "$\\displaystyle 0$",
            "text/plain": [
              "0"
            ]
          },
          "metadata": {},
          "execution_count": 25
        }
      ]
    },
    {
      "cell_type": "code",
      "source": [
        "dLdx"
      ],
      "metadata": {
        "id": "cGWfGRpeqK07",
        "colab": {
          "base_uri": "https://localhost:8080/",
          "height": 38
        },
        "outputId": "b45f818c-090b-4efc-818e-e04a43901047"
      },
      "execution_count": 26,
      "outputs": [
        {
          "output_type": "execute_result",
          "data": {
            "text/latex": "$\\displaystyle - 1.0 k x$",
            "text/plain": [
              "-1.0*k*x"
            ]
          },
          "metadata": {},
          "execution_count": 26
        }
      ]
    },
    {
      "cell_type": "code",
      "source": [
        "dLdXdot"
      ],
      "metadata": {
        "colab": {
          "base_uri": "https://localhost:8080/",
          "height": 38
        },
        "id": "r84sZQ_tIPP1",
        "outputId": "6fcbc05a-23f6-4f15-862b-82b2f36f0589"
      },
      "execution_count": 27,
      "outputs": [
        {
          "output_type": "execute_result",
          "data": {
            "text/latex": "$\\displaystyle 2 \\dot{X} m$",
            "text/plain": [
              "2*Xdot*m"
            ]
          },
          "metadata": {},
          "execution_count": 27
        }
      ]
    },
    {
      "cell_type": "code",
      "source": [
        "dLdxdot"
      ],
      "metadata": {
        "colab": {
          "base_uri": "https://localhost:8080/",
          "height": 51
        },
        "id": "YOVrOdrbIOyo",
        "outputId": "92d533bb-a14e-4aaf-b590-bf4129e16bad"
      },
      "execution_count": 28,
      "outputs": [
        {
          "output_type": "execute_result",
          "data": {
            "text/latex": "$\\displaystyle \\frac{m \\dot{x}}{2}$",
            "text/plain": [
              "m*xdot/2"
            ]
          },
          "metadata": {},
          "execution_count": 28
        }
      ]
    },
    {
      "cell_type": "code",
      "source": [
        "# Xt = d/dt(dLdXdot)\n",
        "Xt = 2*m*Xddot\n",
        "Xt"
      ],
      "metadata": {
        "colab": {
          "base_uri": "https://localhost:8080/",
          "height": 38
        },
        "id": "BRR1HUH7IOaA",
        "outputId": "f85122bd-4244-49ef-9f88-d79389a945d9"
      },
      "execution_count": 42,
      "outputs": [
        {
          "output_type": "execute_result",
          "data": {
            "text/latex": "$\\displaystyle 2 \\ddot{X} m$",
            "text/plain": [
              "2*Xddot*m"
            ]
          },
          "metadata": {},
          "execution_count": 42
        }
      ]
    },
    {
      "cell_type": "code",
      "source": [
        "# xt = d/dt(dLdxdot)\n",
        "xt = m/2*xddot\n",
        "xt"
      ],
      "metadata": {
        "colab": {
          "base_uri": "https://localhost:8080/",
          "height": 51
        },
        "id": "yVM9LlwJKcWH",
        "outputId": "34c07104-6240-48d0-cbe0-c54f68bd0fc6"
      },
      "execution_count": 41,
      "outputs": [
        {
          "output_type": "execute_result",
          "data": {
            "text/latex": "$\\displaystyle \\frac{m \\ddot{x}}{2}$",
            "text/plain": [
              "m*xddot/2"
            ]
          },
          "metadata": {},
          "execution_count": 41
        }
      ]
    },
    {
      "cell_type": "code",
      "source": [
        ""
      ],
      "metadata": {
        "id": "5Ai_nY4rLk7W"
      },
      "execution_count": null,
      "outputs": []
    },
    {
      "cell_type": "code",
      "source": [
        ""
      ],
      "metadata": {
        "id": "JXaN6kO5Lk3L"
      },
      "execution_count": null,
      "outputs": []
    },
    {
      "cell_type": "code",
      "source": [
        ""
      ],
      "metadata": {
        "id": "Bfv_IODJLkyv"
      },
      "execution_count": null,
      "outputs": []
    },
    {
      "cell_type": "code",
      "source": [
        "#buc.notebook_to_pdf(repo, author=\"Cameron Brewer\", title=\"7.8\")"
      ],
      "metadata": {
        "id": "iC4UfeaZmU1o"
      },
      "execution_count": 19,
      "outputs": []
    }
  ]
}