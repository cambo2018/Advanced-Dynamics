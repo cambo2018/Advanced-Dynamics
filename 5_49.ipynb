{
  "nbformat": 4,
  "nbformat_minor": 0,
  "metadata": {
    "colab": {
      "name": "5_49.ipynb",
      "provenance": [],
      "authorship_tag": "ABX9TyO8Z/it4m+edMf7XwmWhPrD",
      "include_colab_link": true
    },
    "kernelspec": {
      "name": "python3",
      "display_name": "Python 3"
    },
    "language_info": {
      "name": "python"
    }
  },
  "cells": [
    {
      "cell_type": "markdown",
      "metadata": {
        "id": "view-in-github",
        "colab_type": "text"
      },
      "source": [
        "<a href=\"https://colab.research.google.com/github/cambo2018/Advanced-Dynamics/blob/main/5_49.ipynb\" target=\"_parent\"><img src=\"https://colab.research.google.com/assets/colab-badge.svg\" alt=\"Open In Colab\"/></a>"
      ]
    },
    {
      "cell_type": "code",
      "source": [
        "!pip install whit-phys-util"
      ],
      "metadata": {
        "colab": {
          "base_uri": "https://localhost:8080/"
        },
        "id": "WwvDp_NhT20I",
        "outputId": "1ca2bc6d-07c0-478d-b791-2eff378bed77"
      },
      "execution_count": 1,
      "outputs": [
        {
          "output_type": "stream",
          "name": "stdout",
          "text": [
            "Collecting whit-phys-util\n",
            "  Downloading whit_phys_util-0.2.7-py3-none-any.whl (11 kB)\n",
            "Collecting python-dotenv>=0.10.4\n",
            "  Downloading python_dotenv-0.19.2-py2.py3-none-any.whl (17 kB)\n",
            "Collecting pydantic>=1.7.3\n",
            "  Downloading pydantic-1.9.0-cp37-cp37m-manylinux_2_17_x86_64.manylinux2014_x86_64.whl (10.9 MB)\n",
            "\u001b[K     |████████████████████████████████| 10.9 MB 4.1 MB/s \n",
            "\u001b[?25hRequirement already satisfied: typing-extensions>=3.7.4.3 in /usr/local/lib/python3.7/dist-packages (from pydantic>=1.7.3->whit-phys-util) (3.10.0.2)\n",
            "Installing collected packages: python-dotenv, pydantic, whit-phys-util\n",
            "Successfully installed pydantic-1.9.0 python-dotenv-0.19.2 whit-phys-util-0.2.7\n"
          ]
        }
      ]
    },
    {
      "cell_type": "code",
      "execution_count": 2,
      "metadata": {
        "id": "1IG6yS_s8nnJ",
        "colab": {
          "base_uri": "https://localhost:8080/"
        },
        "outputId": "e57b1f92-ca07-4c57-d023-122ddabc5761"
      },
      "outputs": [
        {
          "output_type": "stream",
          "name": "stdout",
          "text": [
            "Mounted at /content/drive\n"
          ]
        }
      ],
      "source": [
        "import whit_phys_util as buc\n",
        "import matplotlib.pyplot as plt\n",
        "from sympy import *"
      ]
    },
    {
      "cell_type": "code",
      "source": [
        "repo = buc.local_repository(\"https://github.com/cambo2018/Advanced-Dynamics\")"
      ],
      "metadata": {
        "colab": {
          "base_uri": "https://localhost:8080/"
        },
        "id": "SWdMT3xM3jh1",
        "outputId": "e5c2c98b-d410-4068-c6f9-d64aca33d0c8"
      },
      "execution_count": 3,
      "outputs": [
        {
          "output_type": "stream",
          "name": "stdout",
          "text": [
            "Cloning repository from GitHub.\n"
          ]
        }
      ]
    },
    {
      "cell_type": "markdown",
      "source": [
        "Triangular Wave Equation:\n",
        "\n",
        "$$f(x) = \\frac{2A}{\\pi}arcsin(sin(\\frac{2\\pi}{\\tau}x))$$"
      ],
      "metadata": {
        "id": "F5yk8YEGAyyl"
      }
    },
    {
      "cell_type": "code",
      "source": [
        "var('A tau',positive=True)\n",
        "var('x')\n",
        "\n",
        "f = Piecewise((A*x+1,x < 0), (A*-x+1,x>=0))\n",
        "f"
      ],
      "metadata": {
        "id": "Nhl8zyTr-tJX",
        "colab": {
          "base_uri": "https://localhost:8080/",
          "height": 68
        },
        "outputId": "b465f00d-936a-4a36-b2fd-4d1520d50117"
      },
      "execution_count": 4,
      "outputs": [
        {
          "output_type": "execute_result",
          "data": {
            "text/latex": "$\\displaystyle \\begin{cases} A x + 1 & \\text{for}\\: x < 0 \\\\- A x + 1 & \\text{otherwise} \\end{cases}$",
            "text/plain": [
              "Piecewise((A*x + 1, x < 0), (-A*x + 1, True))"
            ]
          },
          "metadata": {},
          "execution_count": 4
        }
      ]
    },
    {
      "cell_type": "code",
      "source": [
        "T = 2\n",
        "\n",
        "params = {A: 1, tau: T}\n",
        "fig1 = plot(f.subs(params), (x, -T/2, T/2),line_color=\"red\",label=\"exact\");"
      ],
      "metadata": {
        "colab": {
          "base_uri": "https://localhost:8080/",
          "height": 296
        },
        "id": "ZBNWo9AJCzPP",
        "outputId": "640f92cd-dc7b-472e-b7a9-cd98a66270a5"
      },
      "execution_count": 5,
      "outputs": [
        {
          "output_type": "display_data",
          "data": {
            "image/png": "[encoded data removed]",
            "text/plain": [
              "<Figure size 432x288 with 1 Axes>"
            ]
          },
          "metadata": {
            "needs_background": "light"
          }
        }
      ]
    },
    {
      "cell_type": "markdown",
      "source": [
        "$$a_0 = \\frac{1}{\\tau} \\int\\limits_{-\\tau/2}^{+\\tau/2} f(t)\\,dt$$"
      ],
      "metadata": {
        "id": "iF1lxg9uESnO"
      }
    },
    {
      "cell_type": "code",
      "source": [
        "a0 = integrate(1/tau*f, (x, -tau/2, tau/2))\n",
        "a0"
      ],
      "metadata": {
        "id": "7TOnazxzFS8n",
        "colab": {
          "base_uri": "https://localhost:8080/",
          "height": 52
        },
        "outputId": "3b38cae9-5f38-43c7-9255-3e4f80627b48"
      },
      "execution_count": 6,
      "outputs": [
        {
          "output_type": "execute_result",
          "data": {
            "text/latex": "$\\displaystyle - \\frac{A \\tau}{4} + 1$",
            "text/plain": [
              "-A*tau/4 + 1"
            ]
          },
          "metadata": {},
          "execution_count": 6
        }
      ]
    },
    {
      "cell_type": "markdown",
      "source": [
        "$$a(n) = \\frac{2}{\\tau} \\int\\limits_{-\\tau/2}^{+\\tau/2} f(t) \\cos(n \\omega t)\\,dt$$"
      ],
      "metadata": {
        "id": "6Q-IDO3HEzOb"
      }
    },
    {
      "cell_type": "code",
      "source": [
        "var('n', integer = True, positive = True)\n",
        "omega = 2*pi/tau\n",
        "\n",
        "def a(n):\n",
        "    return integrate(2/tau*cos(n*omega*x)*f, (x, -tau/2, tau/2))\n",
        "a(n).simplify()"
      ],
      "metadata": {
        "colab": {
          "base_uri": "https://localhost:8080/",
          "height": 54
        },
        "id": "IhPDVoesEzz5",
        "outputId": "4e322098-2b60-4730-c416-3c84be8beb5c"
      },
      "execution_count": 7,
      "outputs": [
        {
          "output_type": "execute_result",
          "data": {
            "text/latex": "$\\displaystyle \\frac{A \\tau \\left(1 - \\left(-1\\right)^{n}\\right)}{\\pi^{2} n^{2}}$",
            "text/plain": [
              "A*tau*(1 - (-1)**n)/(pi**2*n**2)"
            ]
          },
          "metadata": {},
          "execution_count": 7
        }
      ]
    },
    {
      "cell_type": "code",
      "source": [
        "def b(n):\n",
        "  return integrate(2/tau*sin(n*omega*x)*f, (x, -tau/2, tau/2))\n",
        "b(n).simplify()"
      ],
      "metadata": {
        "colab": {
          "base_uri": "https://localhost:8080/",
          "height": 37
        },
        "id": "3etnVfcpGvGF",
        "outputId": "79644c50-eccb-42d0-b50d-588a2d27238b"
      },
      "execution_count": 8,
      "outputs": [
        {
          "output_type": "execute_result",
          "data": {
            "text/latex": "$\\displaystyle 0$",
            "text/plain": [
              "0"
            ]
          },
          "metadata": {},
          "execution_count": 8
        }
      ]
    },
    {
      "cell_type": "code",
      "source": [
        "nmax = 2\n",
        "f1 = a0 + Sum(a(n)*cos(n*omega*x) + b(n)*sin(n*omega*x), (n, 1, nmax))\n",
        "f1"
      ],
      "metadata": {
        "colab": {
          "base_uri": "https://localhost:8080/",
          "height": 69
        },
        "id": "hedeQBrHGztb",
        "outputId": "04e7c57b-4c15-4930-e593-a753ad768d39"
      },
      "execution_count": 9,
      "outputs": [
        {
          "output_type": "execute_result",
          "data": {
            "text/latex": "$\\displaystyle - \\frac{A \\tau}{4} + \\sum_{n=1}^{2} \\left(- \\frac{\\left(-1\\right)^{n} A \\tau}{\\pi^{2} n^{2}} + \\frac{A \\tau}{\\pi^{2} n^{2}}\\right) \\cos{\\left(\\frac{2 \\pi n x}{\\tau} \\right)} + 1$",
            "text/plain": [
              "-A*tau/4 + Sum((-(-1)**n*A*tau/(pi**2*n**2) + A*tau/(pi**2*n**2))*cos(2*pi*n*x/tau), (n, 1, 2)) + 1"
            ]
          },
          "metadata": {},
          "execution_count": 9
        }
      ]
    },
    {
      "cell_type": "code",
      "source": [
        "f1.doit()"
      ],
      "metadata": {
        "colab": {
          "base_uri": "https://localhost:8080/",
          "height": 55
        },
        "id": "nBzQ41zoG2c7",
        "outputId": "14fac826-e684-410d-b3a5-08ea67d55cf6"
      },
      "execution_count": 10,
      "outputs": [
        {
          "output_type": "execute_result",
          "data": {
            "text/latex": "$\\displaystyle \\frac{2 A \\tau \\cos{\\left(\\frac{2 \\pi x}{\\tau} \\right)}}{\\pi^{2}} - \\frac{A \\tau}{4} + 1$",
            "text/plain": [
              "2*A*tau*cos(2*pi*x/tau)/pi**2 - A*tau/4 + 1"
            ]
          },
          "metadata": {},
          "execution_count": 10
        }
      ]
    },
    {
      "cell_type": "code",
      "source": [
        "def f_approx(nmax, x):\n",
        "  f_sym = a0 + Sum(a(n)*cos(n*omega*x) + b(n)*sin(n*omega*x), (n, 1, nmax))\n",
        "  return f_sym.doit()"
      ],
      "metadata": {
        "id": "4QKHnphZG4b4"
      },
      "execution_count": 11,
      "outputs": []
    },
    {
      "cell_type": "code",
      "source": [
        "f_approx(2, x)"
      ],
      "metadata": {
        "colab": {
          "base_uri": "https://localhost:8080/",
          "height": 55
        },
        "id": "ZK1Ec2pYG9QY",
        "outputId": "c14d241f-82b8-4f13-9fdd-7b73d109b33b"
      },
      "execution_count": 12,
      "outputs": [
        {
          "output_type": "execute_result",
          "data": {
            "text/latex": "$\\displaystyle \\frac{2 A \\tau \\cos{\\left(\\frac{2 \\pi x}{\\tau} \\right)}}{\\pi^{2}} - \\frac{A \\tau}{4} + 1$",
            "text/plain": [
              "2*A*tau*cos(2*pi*x/tau)/pi**2 - A*tau/4 + 1"
            ]
          },
          "metadata": {},
          "execution_count": 12
        }
      ]
    },
    {
      "cell_type": "code",
      "source": [
        "fig2 = plot(f_approx(5,x).subs(params), (x, -T/2, T/2), show = False, label=\"n = 5\")\n",
        "fig2.legend = True\n",
        "fig2.extend(fig1)\n",
        "fig2.show()"
      ],
      "metadata": {
        "colab": {
          "base_uri": "https://localhost:8080/",
          "height": 296
        },
        "id": "D1XOq3mdHBAT",
        "outputId": "eededf1e-c751-4163-a3a3-75d3504cd2d4"
      },
      "execution_count": 13,
      "outputs": [
        {
          "output_type": "display_data",
          "data": {
            "image/png": "[encoded data removed]",
            "text/plain": [
              "<Figure size 432x288 with 1 Axes>"
            ]
          },
          "metadata": {
            "needs_background": "light"
          }
        }
      ]
    },
    {
      "cell_type": "code",
      "source": [
        "buc.notebook_to_pdf(repo, author=\"Cameron Brewer\", title=\"5.49\")"
      ],
      "metadata": {
        "id": "wmsWxsAx3bTF"
      },
      "execution_count": null,
      "outputs": []
    }
  ]
}